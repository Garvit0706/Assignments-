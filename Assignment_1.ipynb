{
 "cells": [
  {
   "cell_type": "markdown",
   "id": "b1526481-2d42-4010-aebc-206590c8c6a5",
   "metadata": {},
   "source": [
    "1. Who developed Python Programming Language? \n",
    "Python programming language was developed by Guido van Rossum and first released in 1991."
   ]
  },
  {
   "cell_type": "markdown",
   "id": "e4125a27-d7af-4d78-98b8-cf5fa2d2fdcd",
   "metadata": {},
   "source": [
    "2. Which type of Programming does Python support? \n",
    " Python supports multiple programming paradigms including:\n",
    "       Object-Oriented Programming (OOP)\n",
    "       Imperative Programming\n",
    "       Functional Programming\n",
    "       Procedural Programming"
   ]
  },
  {
   "cell_type": "markdown",
   "id": "7d3d00f7-b2a0-4f23-93c8-472770d33ebb",
   "metadata": {},
   "source": [
    "3. Is Python case sensitive when dealing with identifiers? \n",
    "Yes"
   ]
  },
  {
   "cell_type": "markdown",
   "id": "f047cf35-72a4-4775-9756-2bc3a859cec4",
   "metadata": {},
   "source": [
    "4. What is the correct extension of the Python file?\n",
    ".py"
   ]
  },
  {
   "cell_type": "markdown",
   "id": "64d5ed2b-9fc3-4e59-99a5-f139e5284fb2",
   "metadata": {},
   "source": [
    "5. Is Python code compiled or interpreted? \n",
    "Interpreted"
   ]
  },
  {
   "cell_type": "markdown",
   "id": "ec2245ab-c5b5-42c9-85e2-2e1c1e156697",
   "metadata": {},
   "source": [
    "6. Name a few blocks of code used to define in Python language? \n",
    "In Python, the following blocks of code are used to define statements, functions, and control flow structures:\n",
    "​\n",
    "   Function Definition: defined using the \"def\" keyword followed by the function name and its parameters.\n",
    "​\n",
    "   Conditional statements: \"if\", \"elif\", and \"else\" are used to control the flow of the program based on conditions.\n",
    "​\n",
    "   For Loop: used for iterating over a sequence (such as a list, tuple, or string) and executing a block of code for each        item.\n",
    "​\n",
    "   While Loop: used for repeatedly executing a block of code as long as a given condition is true.\n",
    "​\n",
    "   Try/Except Block: used for handling exceptions (runtime errors) in a program.\n",
    "​\n",
    "   With Statement: used for wrapping the execution of a block of code with methods defined by a context manager."
   ]
  },
  {
   "cell_type": "markdown",
   "id": "d6ace187-1ef1-4540-91c8-19da3a3754ce",
   "metadata": {},
   "source": [
    "7. State a character used to give single-line comments in Python?\n",
    " \"#\" is used to give single line comments"
   ]
  },
  {
   "cell_type": "markdown",
   "id": "d37d877a-3f99-4eb1-9300-3e8075e73619",
   "metadata": {},
   "source": [
    "8. Mention functions which can help us to find the version of python that we are currently working on?\n",
    "sys.version_info"
   ]
  },
  {
   "cell_type": "markdown",
   "id": "7395cdd7-173c-4ab6-a62a-bc5b16eb454a",
   "metadata": {},
   "source": [
    "9. Python supports the creation of anonymous functions at runtime, using a construct called \n",
    "lambda"
   ]
  },
  {
   "cell_type": "markdown",
   "id": "fe14de20-45ab-42dd-9d0a-c7d3d1a58870",
   "metadata": {},
   "source": [
    "10. What does pip stand for python? \n",
    "pip stands for \"Pip Installs Packages\". It is a package management system used to install and manage software packages written in Python."
   ]
  },
  {
   "cell_type": "markdown",
   "id": "f0746841-c967-4318-ae8a-d459e49515ec",
   "metadata": {},
   "source": [
    "11. Mention a few built-in functions in python?\n",
    "A few built-in functions in Python are: print(), len(), str(), int(), float(), type(), input(), range(), min(), max(), sum(), etc."
   ]
  },
  {
   "cell_type": "markdown",
   "id": "bc28156c-a3c5-46e3-8068-fe69ccabd801",
   "metadata": {},
   "source": [
    "12. What is the maximum possible length of an identifier in Python?\n",
    "The maximum possible length of an identifier in Python is unlimited. However, it is recommended to keep the length of an identifier reasonable for readability and maintenance purposes."
   ]
  },
  {
   "cell_type": "markdown",
   "id": "c66bc198-8a85-4144-a706-d6b34f8f82d7",
   "metadata": {},
   "source": [
    "13. What are the benefits of using Python?\n",
    "The benefits of using Python are:\n",
    "\n",
    "It has a simple, readable and elegant syntax\n",
    "It has a large and active community\n",
    "It is interpreted, dynamically-typed, and garbage-collected\n",
    "It supports multiple programming paradigms\n",
    "It has a vast library of modules and tools for a wide range of applications\n",
    "It is easy to learn and use\n",
    "It can be used for a wide range of applications, including web development, scientific computing, data analysis, machine learning, artificial intelligence, etc."
   ]
  },
  {
   "cell_type": "markdown",
   "id": "888447a1-cdd3-407b-807f-3692a61003e5",
   "metadata": {},
   "source": [
    "\n",
    "14. How is memory managed in Python? \n",
    "In Python, memory management is done automatically by the Python memory manager, which takes care of allocating and deallocating memory for Python objects. Python uses reference counting and garbage collection to manage memory."
   ]
  },
  {
   "cell_type": "markdown",
   "id": "2efa9b58-c608-4190-81ff-7adbe24fbe5a",
   "metadata": {},
   "source": [
    "15. How to install Python on Windows and set path variables? \n",
    "To install Python on Windows and set path variables:\n",
    "\n",
    "Download the Python installer from the official Python website.\n",
    "Run the installer and follow the prompts to install Python.\n",
    "To set the path variables, follow these steps:\n",
    "Open the Start menu and search for \"Environment Variables\"\n",
    "Click on \"Edit the system environment variables\"\n",
    "Click on the \"Environment Variables\" button\n",
    "Under \"System Variables\", scroll down and find the \"Path\" variable.\n",
    "Click on \"Edit\" and add the location of the Python installation to the end of the list.\n",
    "Restart the terminal for the changes to take effect."
   ]
  },
  {
   "cell_type": "markdown",
   "id": "fb438de8-83ce-4c78-8a9c-e2e4b6d17cd6",
   "metadata": {},
   "source": [
    "16. Is indentation required in python?\n",
    "Yes"
   ]
  }
 ],
 "metadata": {
  "kernelspec": {
   "display_name": "Python 3 (ipykernel)",
   "language": "python",
   "name": "python3"
  },
  "language_info": {
   "codemirror_mode": {
    "name": "ipython",
    "version": 3
   },
   "file_extension": ".py",
   "mimetype": "text/x-python",
   "name": "python",
   "nbconvert_exporter": "python",
   "pygments_lexer": "ipython3",
   "version": "3.10.8"
  }
 },
 "nbformat": 4,
 "nbformat_minor": 5
}
