{
 "cells": [
  {
   "cell_type": "code",
   "execution_count": null,
   "id": "0d3781bb-c961-4e5d-9318-ff0d65173d34",
   "metadata": {},
   "outputs": [],
   "source": [
    "# 1. Write a program to accept percentage from the user and display the grade according to the following crriteria:\n",
    "marks=float(input(\"Enter the percentage of student\"))\n",
    "if marks>90:\n",
    "    print(\"Grade A\")\n",
    "elif marks>80 and marks<=90:\n",
    "    print(\"Grade B\")\n",
    "elif marks>=60 and marks<=80:\n",
    "    print(\"Grade C\")\n",
    "else :\n",
    "    print(\"Grade D\")"
   ]
  },
  {
   "cell_type": "code",
   "execution_count": 5,
   "id": "4e91d7b5-9f93-4f45-86e5-a54cf9b35c91",
   "metadata": {},
   "outputs": [
    {
     "name": "stdin",
     "output_type": "stream",
     "text": [
      "Enter the cost of the bike : 134567\n"
     ]
    },
    {
     "name": "stdout",
     "output_type": "stream",
     "text": [
      "The cost after tax is : 154752.05\n"
     ]
    }
   ],
   "source": [
    "# 2. Write a program to accept the cost price of a bike and display the road tax to be paid according to the following criteria:\n",
    "cost=int(input(\"Enter the cost of the bike :\"))\n",
    "if cost>100000:\n",
    "    print(\"The cost after tax is :\", cost+cost*0.15)\n",
    "elif cost>50000 and cost<=100000:\n",
    "     print(\"The cost after tax is :\", cost+cost*0.10)\n",
    "else:\n",
    "     print(\"The cost after tax is :\", cost+cost*0.5)\n",
    "    "
   ]
  },
  {
   "cell_type": "code",
   "execution_count": null,
   "id": "45af2a00-b804-4445-80b6-fc5289a2d649",
   "metadata": {},
   "outputs": [],
   "source": [
    "# 3. Accept any city from the user and display monuments of that city. \n",
    "print(\"\"\"Given three cities\n",
    "1 Delhi\n",
    "2 Agra\n",
    "3 Jaipur\"\"\")\n",
    "city = int(input(\"Enter number of city from given three\"))\n",
    "if city==1:\n",
    "    print(\"The monument is Red fort\")\n",
    "elif city==2:\n",
    "     print(\"The monument is Taj mahal\")\n",
    "elif city==3:\n",
    "    print(\"The monument is Jal Mahal\")\n",
    "else:\n",
    "    print(\"Wrong input\")\n",
    "    "
   ]
  },
  {
   "cell_type": "code",
   "execution_count": null,
   "id": "bd37f6a4-9eb3-4fdb-835f-6c2553790e5c",
   "metadata": {},
   "outputs": [],
   "source": [
    "# 4. Check how many times a given number can be divided by 3 before it is less than or equal to 10. \n",
    "num=int(input(\"Enter a number\"))\n",
    "c=0\n",
    "while num>10:\n",
    "    num=num/3\n",
    "    c+=1\n",
    "print(f\"The {num} is divisible by 3 is {c} times\")\n",
    "    \n",
    "        \n",
    "        "
   ]
  },
  {
   "cell_type": "code",
   "execution_count": 20,
   "id": "8c40de57-c137-4aad-bc07-f990d9eeb4a5",
   "metadata": {},
   "outputs": [
    {
     "name": "stdin",
     "output_type": "stream",
     "text": [
      "Enter a number 5\n"
     ]
    },
    {
     "name": "stdout",
     "output_type": "stream",
     "text": [
      "    *\n",
      "   ***\n",
      "  *****\n",
      " *******\n",
      "*********\n"
     ]
    }
   ],
   "source": [
    "#6. Use nested while loop to print 3 different pattern. \n",
    "rows = int(input(\"Enter a number\"))\n",
    "\n",
    "\n",
    "for i in range(rows):\n",
    "    spaces = rows - i - 1\n",
    "    while spaces > 0:\n",
    "        print(\" \", end=\"\")\n",
    "        spaces -= 1\n",
    "    stars = 2 * i + 1\n",
    "    while stars > 0:\n",
    "        print(\"*\", end=\"\")\n",
    "        stars -= 1\n",
    "    print()\n",
    "\n",
    "\n"
   ]
  },
  {
   "cell_type": "code",
   "execution_count": 21,
   "id": "8c0f56ab-e4c2-49b4-ad68-2140ec409150",
   "metadata": {},
   "outputs": [
    {
     "name": "stdin",
     "output_type": "stream",
     "text": [
      "Enter a number 5\n"
     ]
    },
    {
     "name": "stdout",
     "output_type": "stream",
     "text": [
      "*\n",
      "**\n",
      "***\n",
      "****\n",
      "*****\n"
     ]
    }
   ],
   "source": [
    "#6. Use nested while loop to print 3 different pattern. \n",
    "rows = int(input(\"Enter a number\"))\n",
    "\n",
    "for i in range(rows):\n",
    "    j = 0\n",
    "    while j <= i:\n",
    "        print(\"*\", end=\"\")\n",
    "        j += 1\n",
    "    print()"
   ]
  },
  {
   "cell_type": "code",
   "execution_count": 22,
   "id": "4855dfe9-e7c8-40c2-a173-f41aa53c846d",
   "metadata": {},
   "outputs": [
    {
     "name": "stdin",
     "output_type": "stream",
     "text": [
      "Enter a number 5\n"
     ]
    },
    {
     "name": "stdout",
     "output_type": "stream",
     "text": [
      "    *\n",
      "   ***\n",
      "  *****\n",
      " *******\n",
      "*********\n",
      " *******\n",
      "  *****\n",
      "   ***\n",
      "    *\n"
     ]
    }
   ],
   "source": [
    "#6. Use nested while loop to print 3 different pattern. \n",
    "rows = int(input(\"Enter a number\"))\n",
    "for i in range(-rows+1, rows):\n",
    "    spaces = abs(i)\n",
    "    while spaces > 0:\n",
    "        print(\" \", end=\"\")\n",
    "        spaces -= 1\n",
    "    stars = 2 * (rows - abs(i)) - 1\n",
    "    while stars > 0:\n",
    "        print(\"*\", end=\"\")\n",
    "        stars -= 1\n",
    "    print()\n",
    "\n"
   ]
  },
  {
   "cell_type": "code",
   "execution_count": 24,
   "id": "19b04c95-2ab9-41bd-89e0-3294510316a9",
   "metadata": {},
   "outputs": [
    {
     "name": "stdout",
     "output_type": "stream",
     "text": [
      "10\n",
      "9\n",
      "8\n",
      "7\n",
      "6\n",
      "5\n",
      "4\n",
      "3\n",
      "2\n",
      "1\n"
     ]
    }
   ],
   "source": [
    "#7. Reverse a while loop to display numbers from 10 to 1. \n",
    "n=10\n",
    "while n<=10:\n",
    "    print(n)\n",
    "    n-=1\n",
    "    if n==0:\n",
    "        break"
   ]
  },
  {
   "cell_type": "code",
   "execution_count": null,
   "id": "8319297e-3a94-4411-9946-058aa7404f18",
   "metadata": {},
   "outputs": [],
   "source": []
  }
 ],
 "metadata": {
  "kernelspec": {
   "display_name": "Python 3 (ipykernel)",
   "language": "python",
   "name": "python3"
  },
  "language_info": {
   "codemirror_mode": {
    "name": "ipython",
    "version": 3
   },
   "file_extension": ".py",
   "mimetype": "text/x-python",
   "name": "python",
   "nbconvert_exporter": "python",
   "pygments_lexer": "ipython3",
   "version": "3.10.8"
  }
 },
 "nbformat": 4,
 "nbformat_minor": 5
}
