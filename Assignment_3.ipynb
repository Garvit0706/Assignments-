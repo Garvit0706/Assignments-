{
 "cells": [
  {
   "cell_type": "markdown",
   "id": "72ac9602-146f-409b-9e01-01656352c3e4",
   "metadata": {},
   "source": [
    "Q1. What are the characteristics of the tuples? Is tuple immutable? \n",
    "Characteristics of Tuples:\n",
    "\n",
    "Tuples are ordered, immutable sequences of elements.\n",
    "Once a tuple is created, its elements can not be changed.\n",
    "Tuples are written with parentheses, for example: (1, 2, 3).\n",
    "Tuples can contain elements of different data types, for example: (1, \"hello\", 3.14)."
   ]
  },
  {
   "cell_type": "markdown",
   "id": "cdf74544-0fd0-48c7-837b-c6e13cd7fc86",
   "metadata": {},
   "source": [
    "Q2. What are the two tuple methods in python? Give an example of each method. Give a reason why  tuples have only two in-built methods as compared to Lists. \n",
    "\n",
    "Tuple Methods in Python:\n",
    "\n",
    "  count(): This method returns the number of occurrences of a specified element in the tuple. Example: t = (1, 2, 3, 1,     2), t.count(1) returns 2.\n",
    "  index(): This method returns the first index of a specified element in the tuple. Example: t = (1, 2, 3, 1, 2),index(2)   returns 1.\n",
    "Tuples have only two in-built methods as compared to lists because they are immutable, and therefore, they do not have the same need for methods that manipulate their contents."
   ]
  },
  {
   "cell_type": "markdown",
   "id": "5ecc17cb-6793-43cc-b4f0-1b5536b5b9c8",
   "metadata": {},
   "source": [
    "Q3.  Which collection datatypes in python do not allow duplicate items? Write a code using a set to remove  duplicates from the given list. \n",
    "List = [1, 1, 1, 2, 1, 3, 1, 4, 2, 1, 2, 2, 2, 3, 2, 4, 3, 1, 3, 2, 3, 3, 3, 4, 4, 1, 4, 2, 4, 3, 4, 4] \n",
    "\n",
    "Collection Datatypes in Python:\n",
    "\n",
    "Sets do not allow duplicate items.\n",
    "\n",
    "To remove duplicates from a list, you can use the set() function to convert the list into a set and then convert it back into a list:"
   ]
  },
  {
   "cell_type": "code",
   "execution_count": 1,
   "id": "c5f2da3d-c4c6-4eb8-8388-6aed6ffcb62d",
   "metadata": {},
   "outputs": [
    {
     "name": "stdout",
     "output_type": "stream",
     "text": [
      "[1, 2, 3, 4]\n"
     ]
    }
   ],
   "source": [
    "List = [1, 1, 1, 2, 1, 3, 1, 4, 2, 1, 2, 2, 2, 3, 2, 4, 3, 1, 3, 2, 3, 3, 3, 4, 4, 1, 4, 2, 4, 3, 4, 4]\n",
    "UniqueList = list(set(List))\n",
    "print(UniqueList)"
   ]
  },
  {
   "cell_type": "markdown",
   "id": "3479100a-0f69-4a7f-bc21-1ace7393ddf4",
   "metadata": {},
   "source": [
    "Q4. Explain the difference between the union() and update() methods for a set. Give an example of  each method. \n",
    "Union() and Update() Methods for a Set:\n",
    "\n",
    "union() method returns the union of two sets as a new set, that is, the set containing all the elements from both sets, but with no duplicates. Example: set1 = {1, 2, 3}, set2 = {2, 3, 4}, set1.union(set2) returns {1, 2, 3, 4}.\n",
    "\n",
    "update() method adds all the elements of one set to another set. Example: set1 = {1, 2, 3}, set2 = {2, 3, 4}, set1.update(set2), set1 now contains {1, 2, 3, 4}."
   ]
  },
  {
   "cell_type": "markdown",
   "id": "f7e42c01-205d-4d2f-8edc-5e2cc1f70893",
   "metadata": {},
   "source": [
    "Q5. What is a dictionary? Give an example. Also, state whether a dictionary is ordered or unordered. \n",
    "Dictionary:\n",
    "\n",
    "A dictionary is a collection data type in Python that maps keys to values.\n",
    "\n",
    "Dictionaries are written with curly braces {}, and their elements are written as key:value pairs, for example: {'a': 1, 'b': 2, 'c': 3}.\n",
    "\n",
    "Dictionaries are unordered, which means that the order of the elements may not be the same as the order in which they were added."
   ]
  },
  {
   "cell_type": "markdown",
   "id": "cf812b67-e062-4b7b-becc-487cf7a1b5c8",
   "metadata": {},
   "source": [
    "Q6. Can we create a nested dictionary? If so, please give an example by creating a simple one-level  nested dictionary.\n",
    "Nested Dictionary:\n",
    "\n",
    "Yes, you can create a nested dictionary in Python.\n",
    "Example of a simple one-level nested dictionary:\n",
    "person = {'name': 'Garvit', 'age': 18, 'address': {'street': '123 Main St', 'city': 'Bhajanpura', 'state': 'Delhi'}}\n"
   ]
  },
  {
   "cell_type": "markdown",
   "id": "296907dd-3e73-42c6-ae26-c831ff633b03",
   "metadata": {},
   "source": [
    "Q7. Using setdefault() method, create key named topics in the given dictionary and also add the value of  the key as this list ['Python', 'Machine Learning’, 'Deep Learning'] \n",
    "dict1 = {'language' : 'Python', 'course': 'Data Science Masters'} \n"
   ]
  },
  {
   "cell_type": "code",
   "execution_count": 1,
   "id": "19773eae-fe22-4b93-930f-46bd54a3f5ee",
   "metadata": {},
   "outputs": [
    {
     "name": "stdout",
     "output_type": "stream",
     "text": [
      "{'language': 'Python', 'course': 'Data Science Masters', 'topics': ['Python', 'Machine Learning', 'Deep Learning']}\n"
     ]
    }
   ],
   "source": [
    "dict1 = {'language' : 'Python', 'course': 'Data Science Masters'}\n",
    "\n",
    "dict1.setdefault('topics', ['Python', 'Machine Learning', 'Deep Learning'])\n",
    "\n",
    "print(dict1)"
   ]
  },
  {
   "cell_type": "markdown",
   "id": "8fbc5b2c-1216-4db5-b180-44982dbc39fa",
   "metadata": {},
   "source": [
    "Q8. What are the three view objects in dictionaries? Use the three in-built methods in python to display  these three view objects for the given dictionary.  \n",
    "dict1 = {'Sport': 'Cricket' , 'Teams': ['India', 'Australia', 'England', 'South Africa', 'Sri Lanka', 'New Zealand']} \n",
    "\n",
    "In Python, there are three view objects that can be used to access elements of a dictionary:\n",
    "\n",
    "keys(): returns a view of the dictionary's keys  \n",
    "values(): returns a view of the dictionary's values  \n",
    "items(): returns a view of the dictionary's key-value pairs, as tuples.\n",
    "\n",
    "\n"
   ]
  },
  {
   "cell_type": "code",
   "execution_count": 7,
   "id": "8c03d1e4-d4db-4553-b7a5-5821e3affa85",
   "metadata": {},
   "outputs": [
    {
     "name": "stdout",
     "output_type": "stream",
     "text": [
      "dict_keys(['Sport', 'Teams'])\n",
      "dict_items([('Sport', 'Cricket'), ('Teams', ['India', 'Australia', 'England', 'South Africa', 'Sri Lanka', 'New Zealand'])])\n",
      "dict_values(['Cricket', ['India', 'Australia', 'England', 'South Africa', 'Sri Lanka', 'New Zealand']])\n"
     ]
    }
   ],
   "source": [
    "# Q-8\n",
    "dict1 = {'Sport': 'Cricket' , 'Teams': ['India', 'Australia', 'England', 'South Africa', 'Sri Lanka', 'New Zealand']} \n",
    "print(dict1.keys())\n",
    "print(dict1.items())\n",
    "print(dict1.values())"
   ]
  },
  {
   "cell_type": "code",
   "execution_count": null,
   "id": "04dfabd1-1407-482f-8a03-813bf4654a0f",
   "metadata": {},
   "outputs": [],
   "source": []
  }
 ],
 "metadata": {
  "kernelspec": {
   "display_name": "Python 3 (ipykernel)",
   "language": "python",
   "name": "python3"
  },
  "language_info": {
   "codemirror_mode": {
    "name": "ipython",
    "version": 3
   },
   "file_extension": ".py",
   "mimetype": "text/x-python",
   "name": "python",
   "nbconvert_exporter": "python",
   "pygments_lexer": "ipython3",
   "version": "3.10.8"
  }
 },
 "nbformat": 4,
 "nbformat_minor": 5
}
