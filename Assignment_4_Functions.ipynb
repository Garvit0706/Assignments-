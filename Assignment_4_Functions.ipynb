{
 "cells": [
  {
   "cell_type": "code",
   "execution_count": 2,
   "id": "62b13769-5ef9-4b41-ba72-470be65ea643",
   "metadata": {},
   "outputs": [],
   "source": [
    "\"\"\" Q1. Which keyword is used to create a function? Create a function to return a list of odd numbers in the \n",
    "     range of 1 to 25.\"\"\"\n",
    " # def is the keeyword which is used to create a function.\n",
    "def odd():\n",
    "        for i in range(1,26):\n",
    "            if i%2!=0:\n",
    "                return i\n",
    "            \n"
   ]
  },
  {
   "cell_type": "code",
   "execution_count": 4,
   "id": "b4d53c62-f1eb-4f13-8f95-387ebb60df68",
   "metadata": {},
   "outputs": [
    {
     "name": "stdout",
     "output_type": "stream",
     "text": [
      "1\n",
      "3\n",
      "5\n",
      "7\n",
      "9\n",
      "11\n",
      "13\n",
      "15\n",
      "17\n",
      "19\n",
      "21\n",
      "23\n",
      "25\n"
     ]
    }
   ],
   "source": [
    "odd()"
   ]
  },
  {
   "cell_type": "markdown",
   "id": "387ffe13-7076-42f2-a6f0-5d7f0c89e7bd",
   "metadata": {},
   "source": [
    "Q2. Why *args and **kwargs is used in some functions? Create a function each for *args and **kwargs to  demonstrate their use.  \n",
    "\n",
    "*args is used to pass a non-keyworded, variable-length argument list to the function. In other words, it allows you to pass any number of arguments to the function, which will be treated as a tuple.   \n",
    "**kwargs is used to pass keyworded, variable-length argument list to the function. It allows you to pass any number of keyword arguments to the function, which will be treated as a dictionary."
   ]
  },
  {
   "cell_type": "code",
   "execution_count": 17,
   "id": "b25a7c59-1d82-4529-ba46-630296840ea7",
   "metadata": {},
   "outputs": [],
   "source": [
    "def number(*args):\n",
    "    return args"
   ]
  },
  {
   "cell_type": "code",
   "execution_count": 18,
   "id": "ad52ca36-887d-4377-99ae-43a71576d473",
   "metadata": {},
   "outputs": [
    {
     "data": {
      "text/plain": [
       "(21, 24, 23, 143, 3)"
      ]
     },
     "execution_count": 18,
     "metadata": {},
     "output_type": "execute_result"
    }
   ],
   "source": [
    "number(21,24,23,143,3)"
   ]
  },
  {
   "cell_type": "code",
   "execution_count": 21,
   "id": "ac2bfc19-c978-46ad-8f45-6d5631e5976c",
   "metadata": {},
   "outputs": [
    {
     "data": {
      "text/plain": [
       "{'a': 1, 'b': 2, 's': 3, 'w': 3}"
      ]
     },
     "execution_count": 21,
     "metadata": {},
     "output_type": "execute_result"
    }
   ],
   "source": [
    "def num(**kwargs):\n",
    "    return kwargs\n",
    "num(a=1,b=2,s=3,w=3)"
   ]
  },
  {
   "cell_type": "markdown",
   "id": "b832c8e9-5dc3-4c07-b990-30aefc6053c9",
   "metadata": {},
   "source": [
    "Q3.  What is an iterator in python? Name the method used to initialise the iterator object and the method  used for iteration. Use these methods to print the first five elements of the given list [2, 4, 6, 8, 10, 12, 14, 16,  18, 20].  \n",
    "\n",
    "An iterator in Python is an object that can be iterated (looped) upon. It implements two methods, __iter__() and __next__(). The __iter__() method initializes the iterator and returns the iterator object, while the __next__() method returns the next value in the iteration."
   ]
  },
  {
   "cell_type": "code",
   "execution_count": 34,
   "id": "57828c54-05c0-40ea-8801-67704b72d1e8",
   "metadata": {},
   "outputs": [
    {
     "data": {
      "text/plain": [
       "[2, 4, 6, 8, 10]"
      ]
     },
     "execution_count": 34,
     "metadata": {},
     "output_type": "execute_result"
    }
   ],
   "source": [
    "list = [2, 4, 6, 8, 10, 12, 14, 16,  18, 20]\n",
    "list[0:5]\n",
    "    \n"
   ]
  },
  {
   "cell_type": "markdown",
   "id": "ce6874fe-a6aa-44fa-9332-36552f9a66db",
   "metadata": {},
   "source": [
    "Q4.  What is a generator function in python? Why yield keyword is used? Give an example of a generator  function.\n",
    "\n",
    "A generator function in Python is a special type of function that returns an iterator object and can be used to generate a sequence of values. The main difference between a generator function and a regular function is that a generator function uses the yield keyword instead of return.\n",
    "\n",
    "The yield keyword allows a generator function to return a value and then pause its execution, preserving the state of the function. The next time the generator function is called, it resumes its execution from where it left off and continues until the next yield statement. This allows the generator function to generate values one at a time instead of all at once, making it more memory-efficient for generating large sequences of values."
   ]
  },
  {
   "cell_type": "code",
   "execution_count": 37,
   "id": "be79d21f-c2b6-4027-931c-430ea2cd7819",
   "metadata": {},
   "outputs": [
    {
     "name": "stdout",
     "output_type": "stream",
     "text": [
      "0\n",
      "1\n",
      "2\n",
      "3\n",
      "4\n",
      "5\n",
      "6\n",
      "7\n",
      "8\n",
      "9\n"
     ]
    }
   ],
   "source": [
    "def gen(n):\n",
    "    for i in range(n):\n",
    "        yield i\n",
    "for j in gen(10):\n",
    "    print(j)\n"
   ]
  },
  {
   "cell_type": "code",
   "execution_count": 65,
   "id": "06d823b1-c818-4015-b18d-ad063a41e764",
   "metadata": {},
   "outputs": [
    {
     "name": "stdout",
     "output_type": "stream",
     "text": [
      "2\n",
      "3\n",
      "5\n",
      "7\n",
      "11\n",
      "13\n",
      "17\n",
      "19\n",
      "23\n",
      "29\n",
      "31\n",
      "37\n",
      "41\n",
      "43\n",
      "47\n",
      "53\n",
      "59\n",
      "61\n",
      "67\n",
      "71\n"
     ]
    }
   ],
   "source": [
    "#Q5. Create a generator function for prime numbers less than 1000. Usethe next() method to print the  first 20 prime numbers. \n",
    "def generate_primes():\n",
    "    primes = []\n",
    "    for i in range(2, 1000):\n",
    "        is_prime = True\n",
    "        for j in primes:\n",
    "            if j * j > i:\n",
    "                break\n",
    "            if i % j == 0:\n",
    "                is_prime = False\n",
    "                break\n",
    "        if is_prime:\n",
    "            primes.append(i)\n",
    "            yield i\n",
    "\n",
    "prime_generator = generate_primes()\n",
    "\n",
    "for i in range(20):\n",
    "    print(next(prime_generator))\n",
    "\n"
   ]
  },
  {
   "cell_type": "code",
   "execution_count": 57,
   "id": "98e6e9f4-bd8d-426f-9757-bd9cd90e6fa6",
   "metadata": {},
   "outputs": [
    {
     "name": "stdout",
     "output_type": "stream",
     "text": [
      "2\n",
      "3\n",
      "5\n",
      "7\n",
      "11\n",
      "13\n",
      "17\n",
      "19\n",
      "23\n",
      "29\n",
      "31\n",
      "37\n",
      "41\n",
      "43\n",
      "47\n",
      "53\n",
      "59\n",
      "61\n",
      "67\n",
      "71\n",
      "73\n",
      "79\n",
      "83\n",
      "89\n",
      "97\n",
      "101\n",
      "103\n",
      "107\n",
      "109\n",
      "113\n",
      "127\n",
      "131\n",
      "137\n",
      "139\n",
      "149\n",
      "151\n",
      "157\n",
      "163\n",
      "167\n",
      "173\n",
      "179\n",
      "181\n",
      "191\n",
      "193\n",
      "197\n",
      "199\n",
      "211\n",
      "223\n",
      "227\n",
      "229\n",
      "233\n",
      "239\n",
      "241\n",
      "251\n",
      "257\n",
      "263\n",
      "269\n",
      "271\n",
      "277\n",
      "281\n",
      "283\n",
      "293\n",
      "307\n",
      "311\n",
      "313\n",
      "317\n",
      "331\n",
      "337\n",
      "347\n",
      "349\n",
      "353\n",
      "359\n",
      "367\n",
      "373\n",
      "379\n",
      "383\n",
      "389\n",
      "397\n",
      "401\n",
      "409\n",
      "419\n",
      "421\n",
      "431\n",
      "433\n",
      "439\n",
      "443\n",
      "449\n",
      "457\n",
      "461\n",
      "463\n",
      "467\n",
      "479\n",
      "487\n",
      "491\n",
      "499\n",
      "503\n",
      "509\n",
      "521\n",
      "523\n",
      "541\n",
      "547\n",
      "557\n",
      "563\n",
      "569\n",
      "571\n",
      "577\n",
      "587\n",
      "593\n",
      "599\n",
      "601\n",
      "607\n",
      "613\n",
      "617\n",
      "619\n",
      "631\n",
      "641\n",
      "643\n",
      "647\n",
      "653\n",
      "659\n",
      "661\n",
      "673\n",
      "677\n",
      "683\n",
      "691\n",
      "701\n",
      "709\n",
      "719\n",
      "727\n",
      "733\n",
      "739\n",
      "743\n",
      "751\n",
      "757\n",
      "761\n",
      "769\n",
      "773\n",
      "787\n",
      "797\n",
      "809\n",
      "811\n",
      "821\n",
      "823\n",
      "827\n",
      "829\n",
      "839\n",
      "853\n",
      "857\n",
      "859\n",
      "863\n",
      "877\n",
      "881\n",
      "883\n",
      "887\n",
      "907\n",
      "911\n",
      "919\n",
      "929\n",
      "937\n",
      "941\n",
      "947\n",
      "953\n",
      "967\n",
      "971\n",
      "977\n",
      "983\n",
      "991\n",
      "997\n"
     ]
    }
   ],
   "source": [
    "def is_prime(number):\n",
    "    if number <= 1:\n",
    "        return False\n",
    "    for i in range(2, number):\n",
    "        if number % i == 0:\n",
    "            return False\n",
    "    return True\n",
    "\n",
    "for number in range(2, 1000):\n",
    "    if is_prime(number):\n",
    "        print(number)\n"
   ]
  },
  {
   "cell_type": "code",
   "execution_count": null,
   "id": "d3a2f7be-4c2c-4403-9e06-91fb55c8212f",
   "metadata": {},
   "outputs": [],
   "source": []
  }
 ],
 "metadata": {
  "kernelspec": {
   "display_name": "Python 3 (ipykernel)",
   "language": "python",
   "name": "python3"
  },
  "language_info": {
   "codemirror_mode": {
    "name": "ipython",
    "version": 3
   },
   "file_extension": ".py",
   "mimetype": "text/x-python",
   "name": "python",
   "nbconvert_exporter": "python",
   "pygments_lexer": "ipython3",
   "version": "3.10.8"
  }
 },
 "nbformat": 4,
 "nbformat_minor": 5
}
