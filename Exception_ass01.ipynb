{
 "cells": [
  {
   "cell_type": "markdown",
   "id": "dd598c3d-b2b3-4044-b58c-81d8e8d2b872",
   "metadata": {},
   "source": [
    "1.\n",
    "Exception: An exception is an error that occurs during the execution of a program. It disrupts the normal flow of the program's instructions and can be handled using exception handling mechanisms.\n",
    "\n",
    "Syntax Error: A syntax error occurs when the parser encounters an invalid statement. It is a compile-time error and must be corrected before the code can be executed.\n",
    "\n",
    "Differences:\n",
    "\n",
    "Detection Time: Syntax errors are detected at compile-time, while exceptions are detected at runtime.\n",
    "Nature: Syntax errors are related to incorrect syntax, whereas exceptions are related to issues that arise during program execution, such as dividing by zero or accessing a non-existent file.\n",
    "Handling: Syntax errors must be corrected in the code, while exceptions can be handled using try-except blocks."
   ]
  },
  {
   "cell_type": "markdown",
   "id": "2f6b27c8-e900-4826-8beb-86b863e92673",
   "metadata": {},
   "source": [
    "Q2. What happens when an exception is not handled? Explain with an example.\n",
    "When an exception is not handled, it propagates up the call stack until it reaches the top level of the program, causing the program to terminate and print a traceback message.\n",
    "def divide(a, b):\n",
    "    return a / b\n",
    "\n",
    "result = divide(10, 0)\n",
    "print(result)\n",
    "\n",
    "Traceback (most recent call last):\n",
    "  File \"example.py\", line 6, in <module>\n",
    "    result = divide(10, 0)\n",
    "  File \"example.py\", line 2, in divide\n",
    "    return a / b\n",
    "ZeroDivisionError: division by zero\n"
   ]
  },
  {
   "cell_type": "code",
   "execution_count": null,
   "id": "370af793-d2b6-4b79-8cd8-7a6c9cbcc4a5",
   "metadata": {},
   "outputs": [],
   "source": [
    "Q3. Which Python statements are used to catch and handle exceptions? Explain with an example.\n",
    "The try, except, else, and finally statements are used to catch and handle exceptions.\n",
    "try:\n",
    "    result = 10 / 0\n",
    "except ZeroDivisionError:\n",
    "    print(\"Error: Division by zero!\")\n",
    "else:\n",
    "    print(\"No exceptions occurred.\")\n",
    "finally:\n",
    "    print(\"This will always execute.\")\n",
    "\n",
    "Error: Division by zero!\n",
    "This will always execute.\n"
   ]
  },
  {
   "cell_type": "code",
   "execution_count": null,
   "id": "0e207a5d-d0be-4acc-9f55-ca308f638756",
   "metadata": {},
   "outputs": [],
   "source": [
    "4. In this example:\n",
    "\n",
    "try block contains code that might raise an exception.\n",
    "except block handles the exception if it occurs.\n",
    "else block executes if no exceptions occur.\n",
    "finally block always executes, regardless of whether an exception occurred.\n",
    "raise is used to manually raise an exception.\n",
    "\n",
    "def check_age(age):\n",
    "    if age < 0:\n",
    "        raise ValueError(\"Age cannot be negative\")\n",
    "\n",
    "try:\n",
    "    age = int(input(\"Enter your age: \"))\n",
    "    check_age(age)\n",
    "except ValueError as ve:\n",
    "    print(f\"Error: {ve}\")\n",
    "else:\n",
    "    print(f\"Your age is {age}\")\n",
    "finally:\n",
    "    print(\"Execution completed.\")\n"
   ]
  },
  {
   "cell_type": "markdown",
   "id": "9cb96fb8-46a0-4d87-8cc6-292b7ebb81a0",
   "metadata": {},
   "source": [
    "Q5. What are Custom Exceptions in Python? Why do we need Custom Exceptions? Explain with an example.\n",
    "Custom Exceptions: Custom exceptions are user-defined exceptions that extend the base Exception class. They are useful for handling specific error conditions in a more descriptive and controlled manner.\n",
    "\n",
    "Why We Need Custom Exceptions:\n",
    "\n",
    "To provide more specific error messages.\n",
    "To encapsulate error handling related to specific application logic.\n",
    "To make the code more readable and maintainable."
   ]
  },
  {
   "cell_type": "code",
   "execution_count": null,
   "id": "fa43896c-b730-4b0c-8234-180aec4e667c",
   "metadata": {},
   "outputs": [],
   "source": [
    "class InvalidAgeError(Exception):\n",
    "    \"\"\"Custom exception for invalid age\"\"\"\n",
    "    pass\n",
    "\n",
    "def check_age(age):\n",
    "    if age < 0:\n",
    "        raise InvalidAgeError(\"Age cannot be negative\")\n",
    "    elif age < 18:\n",
    "        raise InvalidAgeError(\"You must be at least 18 years old\")\n",
    "\n",
    "try:\n",
    "    age = int(input(\"Enter your age: \"))\n",
    "    check_age(age)\n",
    "except InvalidAgeError as e:\n",
    "    print(f\"Error: {e}\")\n",
    "else:\n",
    "    print(f\"Your age is {age}\")\n"
   ]
  },
  {
   "cell_type": "markdown",
   "id": "ca9363f4-662c-43dd-a2f4-52bfb6f5b305",
   "metadata": {},
   "source": [
    "6. The CustomError class is defined as a custom exception. The risky_operation function raises this exception, and it is caught and handled in the try block"
   ]
  },
  {
   "cell_type": "code",
   "execution_count": null,
   "id": "9ab38590-9a94-482f-8e08-3176e387150f",
   "metadata": {},
   "outputs": [],
   "source": [
    "class CustomError(Exception):\n",
    "    \"\"\"A custom exception class\"\"\"\n",
    "    def __init__(self, message):\n",
    "        self.message = message\n",
    "        super().__init__(self.message)\n",
    "\n",
    "def risky_operation():\n",
    "    raise CustomError(\"Something went wrong!\")\n",
    "\n",
    "try:\n",
    "    risky_operation()\n",
    "except CustomError as e:\n",
    "    print(f\"Caught custom error: {e}\")\n"
   ]
  },
  {
   "cell_type": "code",
   "execution_count": null,
   "id": "99709f29-4fd9-4b62-8523-adde1194588f",
   "metadata": {},
   "outputs": [],
   "source": []
  }
 ],
 "metadata": {
  "kernelspec": {
   "display_name": "Python 3 (ipykernel)",
   "language": "python",
   "name": "python3"
  },
  "language_info": {
   "codemirror_mode": {
    "name": "ipython",
    "version": 3
   },
   "file_extension": ".py",
   "mimetype": "text/x-python",
   "name": "python",
   "nbconvert_exporter": "python",
   "pygments_lexer": "ipython3",
   "version": "3.10.8"
  }
 },
 "nbformat": 4,
 "nbformat_minor": 5
}
