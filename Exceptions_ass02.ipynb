{
 "cells": [
  {
   "cell_type": "markdown",
   "id": "dc51e78b-31e4-46c0-befa-27753650279a",
   "metadata": {},
   "source": [
    "\n",
    "Q1. Why We Use the Exception Class While Creating a Custom Exception\n",
    "When creating custom exceptions in Python, it is standard practice to inherit from the Exception class. This is because the Exception class is the base class for all built-in exceptions in Python, providing the necessary framework for exception handling mechanisms to work.\n",
    "\n",
    "Reasons for Using the Exception Class:\n",
    "\n",
    "Consistency: By inheriting from Exception, custom exceptions integrate seamlessly with Python's built-in exception handling mechanism.\n",
    "Compatibility: Custom exceptions will behave like built-in exceptions, supporting the same syntax and semantics for raising, catching, and propagating errors.\n",
    "Hierarchy: It maintains a clear exception hierarchy, making it easier to catch specific exceptions or a broad category of exceptions.\n",
    "Functionality: The Exception class provides useful methods and properties (like __str__ and __repr__) that enhance the functionality of custom exceptions"
   ]
  },
  {
   "cell_type": "code",
   "execution_count": null,
   "id": "015c35f7-461d-4319-851f-ee977d54be03",
   "metadata": {},
   "outputs": [],
   "source": [
    "2.\n",
    "def print_exception_hierarchy(exception_class, indent=0):\n",
    "    print(' ' * indent + exception_class.__name__)\n",
    "    for subclass in exception_class.__subclasses__():\n",
    "        print_exception_hierarchy(subclass, indent + 4)\n",
    "\n",
    "print_exception_hierarchy(BaseException)\n"
   ]
  },
  {
   "cell_type": "markdown",
   "id": "5eac558f-d2b8-400b-aec9-fcfb8415044c",
   "metadata": {},
   "source": [
    "Q3. Errors Defined in the ArithmeticError Class\n",
    "The ArithmeticError class is the base class for all errors that occur during arithmetic operations. Some common exceptions derived from ArithmeticError are ZeroDivisionError, OverflowError, and FloatingPointError.\n",
    "\n",
    "Examples:\n",
    "\n",
    "1. ZeroDivisionError:\n",
    "Raised when division or modulo operation is performed with zero as the divisor.\n",
    "\n",
    "try:\n",
    "    result = 10 / 0\n",
    "except ZeroDivisionError as e:\n",
    "    print(f\"Error: {e}\")\n",
    "    \n",
    "2. OverflowError:\n",
    "Raised when the result of an arithmetic operation is too large to be expressed within the range of the available numeric type.\n",
    "import math\n",
    "\n",
    "try:\n",
    "    result = math.exp(1000)\n",
    "except OverflowError as e:\n",
    "    print(f\"Error: {e}\")\n"
   ]
  },
  {
   "cell_type": "markdown",
   "id": "ed03cae5-f6fc-45a0-972b-437ffd1bdda2",
   "metadata": {},
   "source": [
    "Q4. LookupError Class and Examples of KeyError and IndexError\n",
    "LookupError is the base class for errors raised when a key or index used on a mapping or sequence is invalid. It includes KeyError and IndexError.\n",
    "\n",
    "1. KeyError:\n",
    "Raised when a dictionary key is not found.\n",
    "try:\n",
    "    my_dict = {'a': 1, 'b': 2}\n",
    "    value = my_dict['c']\n",
    "except KeyError as e:\n",
    "    print(f\"KeyError: {e}\")\n",
    "\n",
    "2. IndexError:\n",
    "Raised when a sequence index is out of range.\n",
    "try:\n",
    "    my_list = [1, 2, 3]\n",
    "    value = my_list[4]\n",
    "except IndexError as e:\n",
    "    print(f\"IndexError: {e}\")\n"
   ]
  },
  {
   "cell_type": "markdown",
   "id": "5cecdbf3-f4c9-4e19-bfd4-5ac7a6fec514",
   "metadata": {},
   "source": [
    "Q5. Explain ImportError. What is ModuleNotFoundError?\n",
    "ImportError:\n",
    "Raised when an import statement fails to find the module definition or when a from ... import fails to find a name that is to be imported.\n",
    "\n",
    "ModuleNotFoundError:\n",
    "A subclass of ImportError, it is raised when a module cannot be found. This exception specifically handles cases where the module itself cannot be located, which makes the error more precise\n",
    "\n",
    "try:\n",
    "    import non_existent_module\n",
    "except ModuleNotFoundError as e:\n",
    "    print(f\"ModuleNotFoundError: {e}\")\n",
    "except ImportError as e:\n",
    "    print(f\"ImportError: {e}\")\n"
   ]
  },
  {
   "cell_type": "markdown",
   "id": "de5f9b36-6a0e-4636-b756-437685518b34",
   "metadata": {},
   "source": [
    "Q6. Best Practices for Exception Handling in Python\n",
    "\n",
    "1. Be Specific with Exceptions:\n",
    "Catch specific exceptions rather than using a bare except clause to avoid masking real errors.\n",
    "2. Use Finally for Cleanup:\n",
    "Ensure resources are released by using finally blocks, especially when dealing with file operations or connections.\n",
    "3. Avoid Swallowing Exceptions:\n",
    "Log exceptions or re-raise them after handling to avoid hiding errors and to aid in debugging.\n",
    "4. Use Context Managers:\n",
    "Employ with statements for resources that need clean-up to ensure they are properly managed.\n",
    "5. Log Exceptions:\n",
    "Utilize logging to record exceptions and provide detailed information for troubleshooting.\n",
    "6. Create Custom Exceptions:\n",
    "Define custom exception classes for specific application errors to distinguish them from standard Python exceptions.\n",
    "7. Document Exception Handling:\n",
    "Document exceptions raised by functions and methods using docstrings to guide users and developers."
   ]
  }
 ],
 "metadata": {
  "kernelspec": {
   "display_name": "Python 3 (ipykernel)",
   "language": "python",
   "name": "python3"
  },
  "language_info": {
   "codemirror_mode": {
    "name": "ipython",
    "version": 3
   },
   "file_extension": ".py",
   "mimetype": "text/x-python",
   "name": "python",
   "nbconvert_exporter": "python",
   "pygments_lexer": "ipython3",
   "version": "3.10.8"
  }
 },
 "nbformat": 4,
 "nbformat_minor": 5
}
