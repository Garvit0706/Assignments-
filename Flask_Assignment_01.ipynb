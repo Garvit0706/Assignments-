{
 "cells": [
  {
   "cell_type": "markdown",
   "id": "5056a28b-9c08-4e3c-9073-67be730c70f3",
   "metadata": {},
   "source": [
    "Q1. What is Flask Framework? What are the advantages of Flask Framework?\n",
    "Flask is a lightweight and flexible web framework for Python, designed to make it easy to create web applications. It is known for its simplicity and modularity, allowing developers to choose the components they need for their projects.\n",
    "\n",
    "Advantages of Flask Framework:\n",
    "\n",
    "Lightweight and Minimalistic: Flask is a micro-framework, meaning it has a simple core with basic functionality. It does not enforce any dependencies or application structure, allowing developers to have full control over their applications.\n",
    "\n",
    "Flexible and Extensible: Flask is highly flexible and can be extended with various plugins and extensions. Developers can add libraries and tools as needed.\n",
    "\n",
    "Easy to Learn and Use: Flask's simplicity and well-documented nature make it easy for beginners to learn and start developing web applications quickly.\n",
    "\n",
    "Built-in Development Server and Debugger: Flask includes a built-in development server and an interactive debugger, which help developers test and debug their applications efficiently.\n",
    "\n",
    "RESTful Request Dispatching: Flask supports RESTful request dispatching, making it suitable for developing RESTful APIs.\n",
    "\n",
    "Jinja2 Templating: Flask uses the Jinja2 templating engine, which allows for the creation of dynamic HTML content with ease.\n",
    "\n",
    "Integrated Unit Testing: Flask supports unit testing out of the box, helping developers to write and run tests for their applications."
   ]
  },
  {
   "cell_type": "code",
   "execution_count": null,
   "id": "3d99ebea-3b4a-46fa-985f-5b0b309ea2cd",
   "metadata": {},
   "outputs": [],
   "source": [
    "2.\n",
    "from flask import Flask\n",
    "\n",
    "app = Flask(__name__)\n",
    "\n",
    "@app.route('/')\n",
    "def hello_world():\n",
    "    return 'Hello World!!'\n",
    "\n",
    "if __name__ == '__main__':\n",
    "    app.run(debug=True)\n"
   ]
  },
  {
   "cell_type": "markdown",
   "id": "0de8c5a0-8f53-4fac-8a11-a13bae101176",
   "metadata": {},
   "source": [
    "3. What is App Routing in Flask? Why Do We Use App Routes?\n",
    "App routing in Flask refers to mapping URLs to functions that handle the logic for those URLs. This is done using the @app.route() decorator.\n",
    "\n",
    "Why Use App Routes?\n",
    "\n",
    "URL Handling: App routes help in defining how URLs should be processed and what responses should be returned.\n",
    "Organized Code: Routing helps keep the code organized by separating the logic for different endpoints.\n",
    "Dynamic URLs: Routes can be dynamic, allowing for variable URL patterns.\n",
    "RESTful APIs: Routes are essential for creating RESTful APIs, defining how different HTTP methods (GET, POST, etc.) should be handled."
   ]
  },
  {
   "cell_type": "code",
   "execution_count": null,
   "id": "4043982d-3a3a-4337-b459-cfa930e215d5",
   "metadata": {},
   "outputs": [],
   "source": [
    "4.\n",
    "from flask import Flask\n",
    "\n",
    "app = Flask(__name__)\n",
    "\n",
    "@app.route('/')\n",
    "def home():\n",
    "    return '''\n",
    "    Company Name: ABC Corporation<br>\n",
    "    Location: India<br>\n",
    "    Contact Detail: 999-999-9999\n",
    "    '''\n",
    "\n",
    "@app.route('/welcome')\n",
    "def welcome():\n",
    "    return 'Welcome to ABC Corporation'\n",
    "\n",
    "if __name__ == '__main__':\n",
    "    app.run(debug=True)\n"
   ]
  },
  {
   "cell_type": "code",
   "execution_count": null,
   "id": "fbbd2a60-4586-44e6-9deb-5cc43d5087e3",
   "metadata": {},
   "outputs": [],
   "source": [
    "from flask import Flask, url_for\n",
    "\n",
    "app = Flask(__name__)\n",
    "\n",
    "@app.route('/')\n",
    "def home():\n",
    "    return 'This is the home page.'\n",
    "\n",
    "@app.route('/about')\n",
    "def about():\n",
    "    return 'This is the about page.'\n",
    "\n",
    "@app.route('/contact')\n",
    "def contact():\n",
    "    return 'This is the contact page.'\n",
    "\n",
    "@app.route('/links')\n",
    "def links():\n",
    "    home_url = url_for('home')\n",
    "    about_url = url_for('about')\n",
    "    contact_url = url_for('contact')\n",
    "    return f'''\n",
    "    Home URL: {home_url}<br>\n",
    "    About URL: {about_url}<br>\n",
    "    Contact URL: {contact_url}\n",
    "    '''\n",
    "\n",
    "if __name__ == '__main__':\n",
    "    app.run(debug=True)\n"
   ]
  }
 ],
 "metadata": {
  "kernelspec": {
   "display_name": "Python 3 (ipykernel)",
   "language": "python",
   "name": "python3"
  },
  "language_info": {
   "codemirror_mode": {
    "name": "ipython",
    "version": 3
   },
   "file_extension": ".py",
   "mimetype": "text/x-python",
   "name": "python",
   "nbconvert_exporter": "python",
   "pygments_lexer": "ipython3",
   "version": "3.10.8"
  }
 },
 "nbformat": 4,
 "nbformat_minor": 5
}
