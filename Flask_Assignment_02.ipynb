{
 "cells": [
  {
   "cell_type": "code",
   "execution_count": null,
   "id": "406720d4-2002-4e07-95e5-55dc761f9b49",
   "metadata": {},
   "outputs": [],
   "source": [
    "1. Explain GET and POST Methods\n",
    "GET Method:\n",
    "\n",
    "Purpose: The GET method is used to request data from a specified resource.\n",
    "Characteristics:\n",
    "It appends data to the URL as query strings.\n",
    "It is idempotent, meaning multiple identical requests should have the same effect as a single request.\n",
    "It is safe, meaning it only retrieves data without any side effects.\n",
    "It can be cached.\n",
    "Example Use Case: Fetching a list of users from a database.\n",
    "POST Method:\n",
    "\n",
    "Purpose: The POST method is used to send data to a server to create/update a resource.\n",
    "Characteristics:\n",
    "It sends data in the request body.\n",
    "It is not idempotent, meaning multiple identical requests can have different effects.\n",
    "It is not safe, as it can modify data on the server.\n",
    "It is typically used for form submissions.\n",
    "Example Use Case: Submitting a form to create a new user account."
   ]
  },
  {
   "cell_type": "markdown",
   "id": "792838b2-8ad0-4258-bc5a-a4dc94dc2fd6",
   "metadata": {},
   "source": [
    "Q2. Why is request Used in Flask?\n",
    "The request object in Flask is used to access incoming request data, such as form data, query parameters, cookies, files, and headers. It provides a way to handle HTTP requests in a Flask application.\n",
    "\n",
    "Common Uses:\n",
    "\n",
    "Accessing Form Data: request.form['fieldname']\n",
    "Accessing Query Parameters: request.args.get('param')\n",
    "Handling File Uploads: request.files['file']\n",
    "Reading JSON Data: request.json"
   ]
  },
  {
   "cell_type": "markdown",
   "id": "d4d0bcad-34e9-4a2e-8b6d-673d7c68f3bd",
   "metadata": {},
   "source": [
    "Q3. Why is redirect() Used in Flask?\n",
    "The redirect() function in Flask is used to redirect the client to a different URL. It is commonly used to redirect users after a form submission or to direct users to a different page within the application.\n",
    "\n",
    "from flask import Flask, redirect, url_for\n",
    "\n",
    "app = Flask(__name__)\n",
    "\n",
    "@app.route('/')\n",
    "def home():\n",
    "    return 'Home Page'\n",
    "\n",
    "@app.route('/login')\n",
    "def login():\n",
    "    return 'Login Page'\n",
    "\n",
    "@app.route('/submit-login', methods=['POST'])\n",
    "def submit_login():\n",
    "    # Perform login logic\n",
    "    return redirect(url_for('home'))\n",
    "\n",
    "if __name__ == '__main__':\n",
    "    app.run(debug=True)\n"
   ]
  },
  {
   "cell_type": "markdown",
   "id": "9ed6a748-00e7-4268-b64e-1a93b0355086",
   "metadata": {},
   "source": [
    "Q4. What are Templates in Flask? Why is the render_template() Function Used?\n",
    "Templates:\n",
    "Templates in Flask are used to create dynamic HTML content. They allow you to separate the presentation layer from the business logic, making it easier to manage and maintain the application.\n",
    "\n",
    "Jinja2 Templating Engine:\n",
    "Flask uses Jinja2 as its templating engine, which allows for the use of variables, control structures, and template inheritance in HTML files.\n",
    "\n",
    "render_template() Function:\n",
    "The render_template() function is used to render HTML templates with the provided context (data). It takes the name of the template file and any variables to be passed to the template."
   ]
  },
  {
   "cell_type": "code",
   "execution_count": null,
   "id": "13221d41-4bd7-4988-9def-bf0fa4f0492d",
   "metadata": {},
   "outputs": [],
   "source": [
    "5.\n",
    "from flask import Flask, jsonify, request\n",
    "\n",
    "app = Flask(__name__)\n",
    "\n",
    "@app.route('/api/hello', methods=['GET'])\n",
    "def hello():\n",
    "    return jsonify({'message': 'Hello, World!'})\n",
    "\n",
    "@app.route('/api/greet', methods=['POST'])\n",
    "def greet():\n",
    "    data = request.get_json()\n",
    "    name = data.get('name', 'Guest')\n",
    "    return jsonify({'message': f'Hello, {name}!'})\n",
    "\n",
    "if __name__ == '__main__':\n",
    "    app.run(debug=True)\n",
    "\n",
    "    \n",
    "    \n",
    "{\n",
    "    \"message\": \"Hello, World!\"\n",
    "}\n",
    "\n",
    "![GET Request](path_to_screenshot_get.png)\n",
    "![POST Request](path_to_screenshot_post.png)\n"
   ]
  }
 ],
 "metadata": {
  "kernelspec": {
   "display_name": "Python 3 (ipykernel)",
   "language": "python",
   "name": "python3"
  },
  "language_info": {
   "codemirror_mode": {
    "name": "ipython",
    "version": 3
   },
   "file_extension": ".py",
   "mimetype": "text/x-python",
   "name": "python",
   "nbconvert_exporter": "python",
   "pygments_lexer": "ipython3",
   "version": "3.10.8"
  }
 },
 "nbformat": 4,
 "nbformat_minor": 5
}
