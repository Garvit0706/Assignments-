{
 "cells": [
  {
   "cell_type": "code",
   "execution_count": null,
   "id": "ea795c90-6cf3-41b2-8b74-eb990bfaad33",
   "metadata": {},
   "outputs": [],
   "source": [
    "players = [('Sachin Tendulkar', 34357), ('Ricky Ponting', 27483), ('Jack Kallis', 25534), ('Virat Kohli', 24936)]\n",
    "sorted_players = sorted(players, key=lambda x: x[1])\n",
    "print(sorted_players)\n"
   ]
  },
  {
   "cell_type": "code",
   "execution_count": null,
   "id": "c9daca1f-1062-4123-9f28-d1ba5b2a380d",
   "metadata": {},
   "outputs": [],
   "source": [
    "numbers = [1, 2, 3, 4, 5, 6, 7, 8, 9, 10]\n",
    "squares = list(map(lambda x: x**2, numbers))\n",
    "print(squares)\n"
   ]
  },
  {
   "cell_type": "code",
   "execution_count": null,
   "id": "dfd599c0-3e93-4ce6-aa21-08258bb18dcb",
   "metadata": {},
   "outputs": [],
   "source": [
    "numbers = [1, 2, 3, 4, 5, 6, 7, 8, 9, 10]\n",
    "string_tuple = tuple(map(lambda x: str(x), numbers))\n",
    "print(string_tuple)\n"
   ]
  },
  {
   "cell_type": "code",
   "execution_count": null,
   "id": "264cbbdb-e42a-43b6-a835-977d6ed6c3d4",
   "metadata": {},
   "outputs": [],
   "source": [
    "from functools import reduce\n",
    "\n",
    "numbers = list(range(1, 26))\n",
    "product = reduce(lambda x, y: x * y, numbers)\n",
    "print(product)\n"
   ]
  },
  {
   "cell_type": "code",
   "execution_count": null,
   "id": "9378bd09-bf77-497b-a209-7823d30c9c56",
   "metadata": {},
   "outputs": [],
   "source": [
    "numbers = [2, 3, 6, 9, 27, 60, 90, 120, 55, 46]\n",
    "filtered_numbers = list(filter(lambda x: x % 2 == 0 and x % 3 == 0, numbers))\n",
    "print(filtered_numbers)\n"
   ]
  },
  {
   "cell_type": "code",
   "execution_count": null,
   "id": "6768e19c-f86a-4f3d-aeb4-4585aeeb7d8a",
   "metadata": {},
   "outputs": [],
   "source": [
    "strings = ['python', 'php', 'aba', 'radar', 'level']\n",
    "palindromes = list(filter(lambda x: x == x[::-1], strings))\n",
    "print(palindromes)\n"
   ]
  }
 ],
 "metadata": {
  "kernelspec": {
   "display_name": "Python 3 (ipykernel)",
   "language": "python",
   "name": "python3"
  },
  "language_info": {
   "codemirror_mode": {
    "name": "ipython",
    "version": 3
   },
   "file_extension": ".py",
   "mimetype": "text/x-python",
   "name": "python",
   "nbconvert_exporter": "python",
   "pygments_lexer": "ipython3",
   "version": "3.10.8"
  }
 },
 "nbformat": 4,
 "nbformat_minor": 5
}
