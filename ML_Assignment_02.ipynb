{
 "cells": [
  {
   "cell_type": "markdown",
   "id": "e4e8b940-6d67-4f5a-8d22-249936b1583b",
   "metadata": {},
   "source": [
    "Q1. Explain the following with an example:\n",
    "a) Artificial Intelligence (AI)\n",
    "Artificial Intelligence (AI) refers to the simulation of human intelligence processes by machines, especially computer systems. These processes include learning (the acquisition of information and rules for using the information), reasoning (using the rules to reach approximate or definite conclusions), and self-correction.\n",
    "\n",
    "Example:\n",
    "A classic example of AI is a recommendation system used by streaming services like Netflix. AI algorithms analyze viewing habits and recommend shows or movies based on the user's preferences and viewing history.\n",
    "\n",
    "b) Machine Learning (ML)\n",
    "Machine Learning (ML) is a subset of AI that focuses on the development of systems that can learn from and make decisions based on data. ML algorithms build a model based on sample data, known as \"training data,\" in order to make predictions or decisions without being explicitly programmed to perform the task.\n",
    "\n",
    "Example:\n",
    "An example of ML is a spam filter in email services. The spam filter uses ML algorithms to learn from a dataset of labeled emails (spam and non-spam) and predicts whether a new email is spam or not based on its learned patterns.\n",
    "\n",
    "c) Deep Learning (DL)\n",
    "Deep Learning (DL) is a subset of ML that uses neural networks with many layers (deep neural networks) to analyze various factors of data. DL models can handle large amounts of structured and unstructured data and are particularly effective for tasks like image and speech recognition.\n",
    "\n",
    "Example:\n",
    "An example of DL is the use of convolutional neural networks (CNNs) in image recognition tasks, such as identifying objects in images or facial recognition."
   ]
  },
  {
   "cell_type": "markdown",
   "id": "b9041aa0-14b2-4373-8ea0-8768dbb4cfda",
   "metadata": {},
   "source": [
    "Q2. What is supervised learning? List some examples of supervised learning.\n",
    "Supervised learning is a type of machine learning where the model is trained on a labeled dataset. This means that each training example is paired with an output label. The model learns to map inputs to the correct output based on this labeled data.\n",
    "\n",
    "Examples:\n",
    "\n",
    "Linear Regression - Predicting house prices based on features like size, location, and number of rooms.\n",
    "Logistic Regression - Classifying emails as spam or not spam.\n",
    "Support Vector Machines (SVM) - Classifying images of cats and dogs.\n",
    "Decision Trees - Diagnosing whether a patient has a certain disease based on their medical history and symptoms.\n",
    "Random Forest - Predicting customer churn in a subscription-based service."
   ]
  },
  {
   "cell_type": "markdown",
   "id": "3f99af5e-f3e2-4f63-a2ee-2d4938697848",
   "metadata": {},
   "source": [
    "Q3. What is unsupervised learning? List some examples of unsupervised learning.\n",
    "Unsupervised learning is a type of machine learning where the model is trained on an unlabeled dataset. The system tries to learn the patterns and the structure from the data without any explicit instructions on what to predict.\n",
    "\n",
    "Examples:\n",
    "\n",
    "K-Means Clustering - Grouping customers based on purchasing behavior.\n",
    "Hierarchical Clustering - Creating dendrograms to visualize hierarchical relationships in data.\n",
    "Principal Component Analysis (PCA) - Reducing the dimensionality of a dataset to identify the most important features.\n",
    "Anomaly Detection - Detecting fraudulent activities in credit card transactions.\n",
    "Association Rule Learning - Market basket analysis to identify items frequently bought together."
   ]
  },
  {
   "cell_type": "markdown",
   "id": "27300178-49e5-4798-858d-02376d93207f",
   "metadata": {},
   "source": [
    "Q4. What is the difference between AI, ML, DL, and DS?\n",
    "Artificial Intelligence (AI): The broadest concept encompassing all technologies that enable machines to mimic human intelligence, including decision making, learning, and problem-solving.\n",
    "\n",
    "Machine Learning (ML): A subset of AI focused on algorithms and statistical models that enable computers to improve their performance on tasks through experience (i.e., learning from data).\n",
    "\n",
    "Deep Learning (DL): A further subset of ML that uses multi-layered neural networks to model complex patterns in large datasets. It excels in tasks like image and speech recognition.\n",
    "\n",
    "Data Science (DS): An interdisciplinary field that uses scientific methods, processes, algorithms, and systems to extract knowledge and insights from structured and unstructured data. It encompasses a range of techniques from statistics, data analysis, machine learning, and their related methods."
   ]
  },
  {
   "cell_type": "markdown",
   "id": "e065d73d-b525-4144-9301-20e951a41e2e",
   "metadata": {},
   "source": [
    "5. What are the main differences between supervised, unsupervised, and semi-supervised learning?\n",
    "Supervised Learning:\n",
    "\n",
    "Uses labeled data.\n",
    "The model is trained to predict outputs from inputs.\n",
    "Examples: Regression, Classification.\n",
    "Unsupervised Learning:\n",
    "\n",
    "Uses unlabeled data.\n",
    "The model identifies patterns and structures within the data.\n",
    "Examples: Clustering, Association.\n",
    "Semi-Supervised Learning:\n",
    "\n",
    "Uses a combination of labeled and unlabeled data.\n",
    "Typically, a small amount of labeled data and a large amount of unlabeled data.\n",
    "Examples: A semi-supervised classification algorithm where labeled data helps to improve the model accuracy on unlabeled data."
   ]
  },
  {
   "cell_type": "markdown",
   "id": "bd68c3ad-a517-464c-8dc8-c415f533237f",
   "metadata": {},
   "source": [
    "6. What is train, test and validation split? Explain the importance of each term.\n",
    "Training Set: The portion of the dataset used to train the model. The model learns the patterns in the data from this set.\n",
    "\n",
    "Validation Set: A subset of the dataset used to tune the model parameters and select the best model. It helps in assessing how well the model generalizes during the training phase and prevents overfitting.\n",
    "\n",
    "Test Set: The portion of the dataset used to evaluate the performance of the final model. It is not used in training or validation, providing an unbiased assessment of the model’s performance on new data.\n",
    "\n",
    "Importance:\n",
    "\n",
    "Training Set: Essential for fitting the model.\n",
    "Validation Set: Crucial for model selection and hyperparameter tuning.\n",
    "Test Set: Provides an unbiased evaluation of the model’s performance on unseen data."
   ]
  },
  {
   "cell_type": "markdown",
   "id": "468f92c4-01af-4257-b886-33525d0c9871",
   "metadata": {},
   "source": [
    "Q7. How can unsupervised learning be used in anomaly detection?\n",
    "Unsupervised learning can be used in anomaly detection by identifying patterns that deviate significantly from the norm. Common methods include clustering and density estimation.\n",
    "\n",
    "Examples:\n",
    "\n",
    "Clustering: Anomalies are detected as points that do not belong to any cluster or belong to very small clusters.\n",
    "Density Estimation: Anomalies are identified as points that lie in regions of low data density."
   ]
  },
  {
   "cell_type": "code",
   "execution_count": null,
   "id": "199d86d6-1961-469c-a516-1c087115e755",
   "metadata": {},
   "outputs": [],
   "source": [
    "Q8. List down some commonly used supervised learning algorithms and unsupervised learning algorithms.\n",
    "\n",
    "Supervised Learning Algorithms:\n",
    "Linear Regression\n",
    "Logistic Regression\n",
    "Decision Trees\n",
    "Random Forests\n",
    "Support Vector Machines (SVM)\n",
    "k-Nearest Neighbors (k-NN)\n",
    "Neural Networks\n",
    "\n",
    "Unsupervised Learning Algorithms:\n",
    "K-Means Clustering\n",
    "Hierarchical Clustering\n",
    "Principal Component Analysis (PCA)\n",
    "Independent Component Analysis (ICA)\n",
    "t-Distributed Stochastic Neighbor Embedding (t-SNE)\n",
    "Gaussian Mixture Models (GMM)\n",
    "Apriori Algorithm for association rule learning"
   ]
  }
 ],
 "metadata": {
  "kernelspec": {
   "display_name": "Python 3 (ipykernel)",
   "language": "python",
   "name": "python3"
  },
  "language_info": {
   "codemirror_mode": {
    "name": "ipython",
    "version": 3
   },
   "file_extension": ".py",
   "mimetype": "text/x-python",
   "name": "python",
   "nbconvert_exporter": "python",
   "pygments_lexer": "ipython3",
   "version": "3.10.8"
  }
 },
 "nbformat": 4,
 "nbformat_minor": 5
}
