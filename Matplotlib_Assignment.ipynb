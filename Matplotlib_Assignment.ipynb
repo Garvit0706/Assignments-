{
 "cells": [
  {
   "cell_type": "markdown",
   "id": "d435860a-68a3-42ab-b0bf-2b0ebdb645d7",
   "metadata": {},
   "source": [
    "Q1: What is Matplotlib? Why is it used? Name five plots that can be plotted using the Pyplot module of Matplotlib.\n",
    "Matplotlib is a comprehensive library for creating static, animated, and interactive visualizations in Python. It is used for data visualization and graphical plotting, providing an easy way to produce publication-quality plots. The Pyplot module within Matplotlib provides a MATLAB-like interface for simple plotting.\n",
    "\n",
    "Five plots that can be plotted using the Pyplot module of Matplotlib are:\n",
    "\n",
    "Line Plot\n",
    "Scatter Plot\n",
    "Bar Plot\n",
    "Histogram\n",
    "Box Plot"
   ]
  },
  {
   "cell_type": "markdown",
   "id": "80fc12b7-7d3c-4126-bb78-7a7602e12a28",
   "metadata": {},
   "source": [
    "Q2: What is a scatter plot? Use the following code to generate data for x and y. Using this generated data plot a scatter plot.\n",
    "A scatter plot is a type of plot or mathematical diagram using Cartesian coordinates to display values for typically two variables for a set of data. The data is displayed as a collection of points, each having the value of one variable determining the position on the horizontal axis and the value of the other variable determining the position on the vertical axis.\n",
    "import matplotlib.pyplot as plt\n",
    "import numpy as np\n",
    "\n",
    "np.random.seed(3)\n",
    "x = 3 + np.random.normal(0, 2, 50)\n",
    "y = 3 + np.random.normal(0, 2, len(x))\n",
    "\n",
    "plt.scatter(x, y)\n",
    "plt.title('Scatter Plot')\n",
    "plt.xlabel('X Axis')\n",
    "plt.ylabel('Y Axis')\n",
    "plt.show()\n"
   ]
  },
  {
   "cell_type": "markdown",
   "id": "87d37007-c83b-41d2-a15c-7c5a4bfe2657",
   "metadata": {},
   "source": [
    "Q3: Why is the subplot() function used? Draw four line plots using the subplot() function.\n",
    "The subplot() function in Matplotlib is used to create multiple plots in a single figure. It allows you to arrange plots in a grid layout, making it easy to compare multiple graphs side-by-side.\n",
    "\n",
    "import matplotlib.pyplot as plt\n",
    "import numpy as np\n",
    "\n",
    "x = np.array([0, 1, 2, 3, 4, 5])\n",
    "\n",
    "y1 = np.array([0, 100, 200, 300, 400, 500])\n",
    "y2 = np.array([50, 20, 40, 20, 60, 70])\n",
    "y3 = np.array([10, 20, 30, 40, 50, 60])\n",
    "y4 = np.array([200, 350, 250, 550, 450, 150])\n",
    "\n",
    "plt.subplot(2, 2, 1)\n",
    "plt.plot(x, y1)\n",
    "plt.title('Line 1')\n",
    "\n",
    "plt.subplot(2, 2, 2)\n",
    "plt.plot(x, y2)\n",
    "plt.title('Line 2')\n",
    "\n",
    "plt.subplot(2, 2, 3)\n",
    "plt.plot(x, y3)\n",
    "plt.title('Line 3')\n",
    "\n",
    "plt.subplot(2, 2, 4)\n",
    "plt.plot(x, y4)\n",
    "plt.title('Line 4')\n",
    "\n",
    "plt.tight_layout()\n",
    "plt.show()\n"
   ]
  },
  {
   "cell_type": "markdown",
   "id": "a19754d4-9f31-4566-a564-44355ee4d03a",
   "metadata": {},
   "source": [
    "Q4: What is a bar plot? Why is it used? Using the following data plot a bar plot and a horizontal bar plot.\n",
    "A bar plot is a chart that presents categorical data with rectangular bars. Each bar's length is proportional to the value it represents. Bar plots are used to compare different categories or groups.\n",
    "\n",
    "import matplotlib.pyplot as plt\n",
    "import numpy as np\n",
    "\n",
    "company = np.array([\"Apple\", \"Microsoft\", \"Google\", \"AMD\"])\n",
    "profit = np.array([3000, 8000, 1000, 10000])\n",
    "\n",
    "# Bar Plot\n",
    "plt.bar(company, profit)\n",
    "plt.title('Bar Plot')\n",
    "plt.xlabel('Company')\n",
    "plt.ylabel('Profit')\n",
    "plt.show()\n",
    "\n",
    "# Horizontal Bar Plot\n",
    "plt.barh(company, profit)\n",
    "plt.title('Horizontal Bar Plot')\n",
    "plt.xlabel('Profit')\n",
    "plt.ylabel('Company')\n",
    "plt.show()\n"
   ]
  },
  {
   "cell_type": "markdown",
   "id": "e61ab6c7-fc1c-43c0-a851-0cc1efc3489f",
   "metadata": {},
   "source": [
    "Q5: What is a box plot? Why is it used? Using the following data plot a box plot.\n",
    "A box plot, also known as a whisker plot, is a standardized way of displaying the distribution of data based on a five-number summary: minimum, first quartile (Q1), median, third quartile (Q3), and maximum. Box plots are used to identify and visualize the distribution, variability, and potential outliers in a dataset.\n",
    "\n",
    "import matplotlib.pyplot as plt\n",
    "import numpy as np\n",
    "\n",
    "box1 = np.random.normal(100, 10, 200)\n",
    "box2 = np.random.normal(90, 20, 200)\n",
    "\n",
    "data = [box1, box2]\n",
    "\n",
    "plt.boxplot(data, vert=True, patch_artist=True, labels=['Box1', 'Box2'])\n",
    "plt.title('Box Plot')\n",
    "plt.xlabel('Box')\n",
    "plt.ylabel('Values')\n",
    "plt.show()\n"
   ]
  }
 ],
 "metadata": {
  "kernelspec": {
   "display_name": "Python 3 (ipykernel)",
   "language": "python",
   "name": "python3"
  },
  "language_info": {
   "codemirror_mode": {
    "name": "ipython",
    "version": 3
   },
   "file_extension": ".py",
   "mimetype": "text/x-python",
   "name": "python",
   "nbconvert_exporter": "python",
   "pygments_lexer": "ipython3",
   "version": "3.10.8"
  }
 },
 "nbformat": 4,
 "nbformat_minor": 5
}
