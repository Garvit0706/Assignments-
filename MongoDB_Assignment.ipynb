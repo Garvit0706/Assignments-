{
 "cells": [
  {
   "cell_type": "markdown",
   "id": "01075c8c-21cc-4b90-940b-2e7ab1e24619",
   "metadata": {},
   "source": [
    "Q1: What is MongoDB? Explain non-relational databases in short. In which scenarios it is preferred to use MongoDB over SQL databases?\n",
    "\n",
    "MongoDB:\n",
    "\n",
    "MongoDB is a popular NoSQL, document-oriented database.\n",
    "It stores data in flexible, JSON-like documents, allowing for dynamic schema design.\n",
    "Uses collections and documents instead of tables and rows.\n",
    "Non-Relational Databases:\n",
    "\n",
    "Non-relational databases (NoSQL) are designed to handle a variety of data models, including document, key-value, graph, and column-family stores.\n",
    "They provide flexibility in data storage and retrieval, making them suitable for hierarchical data storage, large-scale data, and rapid development.\n",
    "Preferred Scenarios for MongoDB:\n",
    "\n",
    "When the data model is unstructured or semi-structured.\n",
    "When rapid development and iteration are needed.\n",
    "When horizontal scalability and high availability are critical.\n",
    "When dealing with large volumes of data and requiring high performance."
   ]
  },
  {
   "cell_type": "markdown",
   "id": "f3607623-5a0f-48e4-981a-f9c579516bed",
   "metadata": {},
   "source": [
    "Q2: State and Explain the features of MongoDB.\n",
    "\n",
    "Features of MongoDB:\n",
    "\n",
    "Document-Oriented: Stores data in JSON-like documents, making it easy to map to programming language objects.\n",
    "Schema Flexibility: Dynamic schemas allow you to evolve your data model without needing migrations.\n",
    "Scalability: Supports horizontal scaling via sharding, distributing data across multiple servers.\n",
    "High Availability: Provides replication with automatic failover.\n",
    "Indexing: Supports various types of indexing for fast query performance.\n",
    "Aggregation Framework: Offers a powerful way to perform data aggregation operations.\n",
    "Geospatial Indexing: Provides support for location-based data and queries.\n",
    "Text Search: Built-in text search capabilities.\n",
    "GridFS: Used for storing and retrieving large files such as images and videos."
   ]
  },
  {
   "cell_type": "code",
   "execution_count": null,
   "id": "deb36d95-0ce9-4f75-acdf-8de273ead589",
   "metadata": {},
   "outputs": [],
   "source": [
    "3.\n",
    "from pymongo import MongoClient\n",
    "\n",
    "# Connecting to MongoDB\n",
    "client = MongoClient('localhost', 27017)  # Assuming MongoDB is running on localhost and default port 27017\n",
    "\n",
    "# Creating a database\n",
    "db = client['example_db']\n",
    "\n",
    "# Creating a collection\n",
    "collection = db['example_collection']\n",
    "\n",
    "print(\"Database and Collection created successfully\")\n"
   ]
  },
  {
   "cell_type": "code",
   "execution_count": null,
   "id": "bcb84128-89af-413d-925d-b05a1d12ed46",
   "metadata": {},
   "outputs": [],
   "source": [
    "4.\n",
    "# Insert one record\n",
    "one_record = {\"name\": \"John\", \"age\": 30, \"city\": \"New York\"}\n",
    "inserted_id = collection.insert_one(one_record).inserted_id\n",
    "print(f\"Inserted one record with ID: {inserted_id}\")\n",
    "\n",
    "# Insert many records\n",
    "many_records = [\n",
    "    {\"name\": \"Anna\", \"age\": 25, \"city\": \"London\"},\n",
    "    {\"name\": \"Mike\", \"age\": 35, \"city\": \"Chicago\"}\n",
    "]\n",
    "inserted_ids = collection.insert_many(many_records).inserted_ids\n",
    "print(f\"Inserted many records with IDs: {inserted_ids}\")\n",
    "\n",
    "# Find one record\n",
    "print(\"One record:\")\n",
    "print(collection.find_one({\"name\": \"John\"}))\n",
    "\n",
    "# Find all records\n",
    "print(\"All records:\")\n",
    "for record in collection.find():\n",
    "    print(record)\n"
   ]
  },
  {
   "cell_type": "code",
   "execution_count": null,
   "id": "10f7a34e-6bc4-4222-8526-ab9a946bf590",
   "metadata": {},
   "outputs": [],
   "source": [
    "Q5: Explain how you can use the find() method to query the MongoDB database. Write a simple code to demonstrate this.\n",
    "\n",
    "Using find() method:\n",
    "\n",
    "The find() method retrieves documents from a collection based on a query filter.\n",
    "It returns a cursor that can be iterated over to access the documents.\n",
    "# Query to find records where age is greater than 30\n",
    "query = {\"age\": {\"$gt\": 30}}\n",
    "\n",
    "# Execute query\n",
    "results = collection.find(query)\n",
    "\n",
    "# Print results\n",
    "print(\"Records with age > 30:\")\n",
    "for record in results:\n",
    "    print(record)\n"
   ]
  },
  {
   "cell_type": "code",
   "execution_count": null,
   "id": "9a02030e-a3eb-4727-ae14-4dc78452b908",
   "metadata": {},
   "outputs": [],
   "source": [
    "Q6: Explain the sort() method. Give an example to demonstrate sorting in MongoDB.\n",
    "\n",
    "sort() method:\n",
    "\n",
    "The sort() method sorts the results of a query in ascending or descending order based on one or more fields.\n",
    "Takes one or more key-direction pairs (field and sorting order).\n",
    "# Sort by age in ascending order\n",
    "sorted_results = collection.find().sort(\"age\", 1)\n",
    "\n",
    "# Sort by age in descending order\n",
    "sorted_results_desc = collection.find().sort(\"age\", -1)\n",
    "\n",
    "# Print sorted results\n",
    "print(\"Records sorted by age (ascending):\")\n",
    "for record in sorted_results:\n",
    "    print(record)\n",
    "\n",
    "print(\"Records sorted by age (descending):\")\n",
    "for record in sorted_results_desc:\n",
    "    print(record)\n"
   ]
  },
  {
   "cell_type": "code",
   "execution_count": null,
   "id": "83ff9988-b263-439c-8973-fdd4349e81c2",
   "metadata": {},
   "outputs": [],
   "source": [
    "Q7: Explain why delete_one(), delete_many(), and drop() are used.\n",
    "\n",
    "delete_one(): Removes a single document that matches the query criteria.\n",
    "delete_many(): Removes all documents that match the query criteria.\n",
    "drop(): Removes an entire collection from the database.\n",
    "# Delete one record where name is 'John'\n",
    "collection.delete_one({\"name\": \"John\"})\n",
    "\n",
    "# Delete many records where age is less than 30\n",
    "collection.delete_many({\"age\": {\"$lt\": 30}})\n",
    "\n",
    "# Drop the entire collection\n",
    "collection.drop()\n"
   ]
  }
 ],
 "metadata": {
  "kernelspec": {
   "display_name": "Python 3 (ipykernel)",
   "language": "python",
   "name": "python3"
  },
  "language_info": {
   "codemirror_mode": {
    "name": "ipython",
    "version": 3
   },
   "file_extension": ".py",
   "mimetype": "text/x-python",
   "name": "python",
   "nbconvert_exporter": "python",
   "pygments_lexer": "ipython3",
   "version": "3.10.8"
  }
 },
 "nbformat": 4,
 "nbformat_minor": 5
}
