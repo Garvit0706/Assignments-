{
 "cells": [
  {
   "cell_type": "markdown",
   "id": "8d695fd7-3066-42e1-bad6-9b4528b164e7",
   "metadata": {},
   "source": [
    "Q1. What is multiprocessing in Python? Why is it useful?\n",
    "Multiprocessing in Python refers to the capability of creating and running multiple processes simultaneously to execute tasks. Each process runs independently, making use of multiple CPUs and cores available on a system. It is useful for CPU-bound tasks that can be parallelized, as it allows for true parallel execution, unlike threading which is limited by the Global Interpreter Lock (GIL) in Python"
   ]
  },
  {
   "cell_type": "markdown",
   "id": "50e731b8-3912-47cc-b766-8a42bade99d2",
   "metadata": {},
   "source": [
    "Q2. Differences between multiprocessing and multithreading\n",
    "\n",
    "Multiprocessing:\n",
    "Involves creating multiple processes.\n",
    "Each process has its own memory space.\n",
    "Processes are heavyweight compared to threads.\n",
    "Utilizes multiple CPU cores effectively.\n",
    "Suitable for CPU-bound tasks.\n",
    "\n",
    "Multithreading:\n",
    "Involves creating multiple threads within a single process.\n",
    "Threads share the same memory space.\n",
    "Threads are lightweight compared to processes.\n",
    "Limited by the GIL in Python, providing concurrent but not parallel execution.\n",
    "Suitable for I/O-bound tasks"
   ]
  },
  {
   "cell_type": "code",
   "execution_count": null,
   "id": "6e5677c9-89b0-4cfd-9b8b-ddfae28a08da",
   "metadata": {},
   "outputs": [],
   "source": [
    "3.\n",
    "import multiprocessing\n",
    "\n",
    "def worker(num):\n",
    "    \"\"\"Function to be executed by each process\"\"\"\n",
    "    print(f\"Worker {num} is running.\")\n",
    "\n",
    "if __name__ == \"__main__\":\n",
    "    # Create 4 processes\n",
    "    processes = []\n",
    "    for i in range(4):\n",
    "        p = multiprocessing.Process(target=worker, args=(i,))\n",
    "        processes.append(p)\n",
    "        p.start()\n",
    "\n",
    "    # Wait for all processes to finish\n",
    "    for p in processes:\n",
    "        p.join()\n",
    "\n",
    "    print(\"All processes have finished execution.\")\n"
   ]
  },
  {
   "cell_type": "markdown",
   "id": "a60f6630-c542-4a3e-8dac-8a5ab6a33585",
   "metadata": {},
   "source": [
    "Q4. What is a multiprocessing pool in Python? Why is it used?\n",
    "A multiprocessing pool in Python, specifically multiprocessing.Pool, is a way to manage a pool of worker processes. It provides a high-level interface for distributing work across multiple processes efficiently. It is used to parallelize the execution of a function across multiple input values, managing the creation and destruction of worker processes automatically."
   ]
  },
  {
   "cell_type": "code",
   "execution_count": null,
   "id": "b1944b4d-60ef-4778-9626-0a51f7e131a2",
   "metadata": {},
   "outputs": [],
   "source": [
    "5.\n",
    "import multiprocessing\n",
    "\n",
    "def worker(num):\n",
    "    \"\"\"Function to be executed by worker processes\"\"\"\n",
    "    print(f\"Worker {num} is running.\")\n",
    "\n",
    "if __name__ == \"__main__\":\n",
    "    # Create a pool with 4 worker processes\n",
    "    with multiprocessing.Pool(processes=4) as pool:\n",
    "        # Distribute the work across the worker processes\n",
    "        pool.map(worker, range(4))\n",
    "\n",
    "    print(\"All worker processes have finished execution.\")\n"
   ]
  },
  {
   "cell_type": "code",
   "execution_count": null,
   "id": "e51b65d8-c098-4a1e-8f4e-a940a2ee533a",
   "metadata": {},
   "outputs": [],
   "source": [
    "6.\n",
    "import multiprocessing\n",
    "\n",
    "def worker(num):\n",
    "    \"\"\"Function to be executed by each process\"\"\"\n",
    "    print(f\"Process {num} is printing the number {num}.\")\n",
    "\n",
    "if __name__ == \"__main__\":\n",
    "    # Create 4 processes\n",
    "    processes = []\n",
    "    for i in range(4):\n",
    "        p = multiprocessing.Process(target=worker, args=(i,))\n",
    "        processes.append(p)\n",
    "        p.start()\n",
    "\n",
    "    # Wait for all processes to finish\n",
    "    for p in processes:\n",
    "        p.join()\n",
    "\n",
    "    print(\"All processes have finished execution.\")\n"
   ]
  }
 ],
 "metadata": {
  "kernelspec": {
   "display_name": "Python 3 (ipykernel)",
   "language": "python",
   "name": "python3"
  },
  "language_info": {
   "codemirror_mode": {
    "name": "ipython",
    "version": 3
   },
   "file_extension": ".py",
   "mimetype": "text/x-python",
   "name": "python",
   "nbconvert_exporter": "python",
   "pygments_lexer": "ipython3",
   "version": "3.10.8"
  }
 },
 "nbformat": 4,
 "nbformat_minor": 5
}
