{
 "cells": [
  {
   "cell_type": "markdown",
   "id": "9d3b0baf-1aa6-43c0-99df-9828d12538c8",
   "metadata": {},
   "source": [
    "1. Multithreading in Python refers to the ability of a program to execute multiple threads or flows of execution simultaneously within a single process. It is used to perform concurrent execution of multiple tasks, which allows for better utilization of resources and faster execution of programs. The module used to handle threads in Python is the threading module."
   ]
  },
  {
   "cell_type": "markdown",
   "id": "26bd8df4-e1e9-4f2f-ab3e-c06881f9f90a",
   "metadata": {},
   "source": [
    "2. The threading module is used in Python to handle threads. The following functions are commonly used in the threading module:\n",
    "\n",
    "    activeCount(): returns the number of thread objects that are active  \n",
    "    currentThread(): returns a reference to the current thread object  \n",
    "    (): returns a list of all thread objects that are active"
   ]
  },
  {
   "cell_type": "markdown",
   "id": "235ed503-f87f-4f66-982a-a0a6c1eaecc8",
   "metadata": {},
   "source": [
    "3. The following are the commonly used functions in the threading module:\n",
    "   run(): this method is called when a thread is started. It contains the code that the thread will execute.  \n",
    "   start(): this method starts a thread by calling its run method.  \n",
    "   join(): this method waits for a thread to complete its execution.  \n",
    "   isAlive(): this method returns True if a thread is active, i.e., it has started but not completed its execution."
   ]
  },
  {
   "cell_type": "code",
   "execution_count": 3,
   "id": "275eb6fe-2905-4252-8070-d5085e320468",
   "metadata": {},
   "outputs": [],
   "source": [
    "# 4.\n",
    "import threading\n",
    "\n",
    "def sq(x):\n",
    "    print(x**2)\n",
    "\n",
    "def cube(x):\n",
    "    print(x**3)\n"
   ]
  },
  {
   "cell_type": "code",
   "execution_count": 4,
   "id": "c7ac1e0b-6c5a-4d86-a058-8c19bb3856c2",
   "metadata": {},
   "outputs": [
    {
     "name": "stdout",
     "output_type": "stream",
     "text": [
      "12167\n",
      "148877\n",
      "238328\n",
      "132651\n",
      "132651\n",
      "140608\n"
     ]
    }
   ],
   "source": [
    "thread2 = [threading.Thread(target=cube , args=(i,)) for i in [23,53,62,51,51,52]]\n",
    "for t in thread2:\n",
    "    t.start()"
   ]
  },
  {
   "cell_type": "code",
   "execution_count": 5,
   "id": "70fae535-04aa-4768-ac74-66a78324a76d",
   "metadata": {},
   "outputs": [
    {
     "name": "stdout",
     "output_type": "stream",
     "text": [
      "144\n",
      "1156\n",
      "262144\n",
      "2025\n",
      "529\n",
      "1849\n",
      "4225\n"
     ]
    }
   ],
   "source": [
    "thread1 = [threading.Thread(target=sq , args= (i,)) for i in [12,34,512,45,23,43,65]]\n",
    "for i in thread1:\n",
    "    i.start()"
   ]
  },
  {
   "cell_type": "markdown",
   "id": "323a2eff-90aa-491b-9f6c-0099cf803813",
   "metadata": {},
   "source": [
    "5. Advantages of multithreading:\n",
    "\n",
    "   Increased efficiency and speed of program execution  \n",
    "   Utilization of multiple cores and CPUs of a computer  \n",
    "   Enhanced performance of I/O-bound tasks  \n",
    "\n",
    "   Disadvantages of multithreading:  \n",
    "\n",
    "   Increased complexity of program design and debugging  \n",
    "   Difficulty in synchronizing the execution of threads  \n",
    "   Increased memory usage due to the creation of multiple threads"
   ]
  },
  {
   "cell_type": "markdown",
   "id": "eb7a9313-a415-47dd-acb9-bde89b524110",
   "metadata": {},
   "source": [
    "6. Deadlocks and race conditions are two common problems that can arise in multithreaded programs:\n",
    "Deadlocks occur when two or more threads are blocked and waiting for each other to release a resource, resulting in a standstill or \"deadlock\" in program execution.\n",
    "Race conditions occur when multiple threads access and modify shared data concurrently, leading to unpredictable and incorrect behavior of the program. Race conditions can also result in data corruption or loss."
   ]
  }
 ],
 "metadata": {
  "kernelspec": {
   "display_name": "Python 3 (ipykernel)",
   "language": "python",
   "name": "python3"
  },
  "language_info": {
   "codemirror_mode": {
    "name": "ipython",
    "version": 3
   },
   "file_extension": ".py",
   "mimetype": "text/x-python",
   "name": "python",
   "nbconvert_exporter": "python",
   "pygments_lexer": "ipython3",
   "version": "3.10.8"
  }
 },
 "nbformat": 4,
 "nbformat_minor": 5
}
