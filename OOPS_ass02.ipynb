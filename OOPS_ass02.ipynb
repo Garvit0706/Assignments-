{
 "cells": [
  {
   "cell_type": "code",
   "execution_count": null,
   "id": "10d88f75-4727-45a1-9b98-c4c9d1367c7b",
   "metadata": {},
   "outputs": [],
   "source": [
    "class Vehicle:\n",
    "    def __init__(self, name_of_vehicle, max_speed, average_of_vehicle):\n",
    "        self.name_of_vehicle = name_of_vehicle\n",
    "        self.max_speed = max_speed\n",
    "        self.average_of_vehicle = average_of_vehicle\n",
    "\n",
    "# Example usage:\n",
    "vehicle = Vehicle(\"Generic Vehicle\", 120, 15)\n",
    "print(vehicle.name_of_vehicle)  # Output: Generic Vehicle\n",
    "print(vehicle.max_speed)        # Output: 120\n",
    "print(vehicle.average_of_vehicle) # Output: 15\n"
   ]
  },
  {
   "cell_type": "code",
   "execution_count": null,
   "id": "2dec37b0-b61e-4bfa-8c51-2b4ae25f4a77",
   "metadata": {},
   "outputs": [],
   "source": [
    "class Car(Vehicle):\n",
    "    def seating_capacity(self, capacity):\n",
    "        return f\"The seating capacity of {self.name_of_vehicle} is {capacity} passengers.\"\n",
    "\n",
    "# Example usage:\n",
    "car = Car(\"Sedan\", 180, 12)\n",
    "print(car.seating_capacity(5))  # Output: The seating capacity of Sedan is 5 passengers.\n"
   ]
  },
  {
   "cell_type": "markdown",
   "id": "80f0c95d-ee70-49dd-a7f1-97cb197d1c0b",
   "metadata": {},
   "source": [
    "Multiple inheritance is a feature in object-oriented programming where a class can inherit attributes and methods from more than one parent class."
   ]
  },
  {
   "cell_type": "code",
   "execution_count": null,
   "id": "f3f8a777-ce0a-4efe-8cb4-5ef9f120398f",
   "metadata": {},
   "outputs": [],
   "source": [
    "class Parent1:\n",
    "    def method_parent1(self):\n",
    "        return \"Method from Parent1\"\n",
    "\n",
    "class Parent2:\n",
    "    def method_parent2(self):\n",
    "        return \"Method from Parent2\"\n",
    "\n",
    "class Child(Parent1, Parent2):\n",
    "    def method_child(self):\n",
    "        return \"Method from Child\"\n",
    "\n",
    "# Example usage:\n",
    "child = Child()\n",
    "print(child.method_parent1())  # Output: Method from Parent1\n",
    "print(child.method_parent2())  # Output: Method from Parent2\n",
    "print(child.method_child())    # Output: Method from Child\n"
   ]
  },
  {
   "cell_type": "markdown",
   "id": "eee4cefc-63d7-4ebb-9fb1-5ab6624d8048",
   "metadata": {},
   "source": [
    "Getters and setters are methods used to access and modify the private attributes of a class. They provide a way to add logic when getting or setting a value.\n"
   ]
  },
  {
   "cell_type": "code",
   "execution_count": null,
   "id": "1306630d-8000-4dba-873e-a29a4e04cbb7",
   "metadata": {},
   "outputs": [],
   "source": [
    "class Student:\n",
    "    def __init__(self, name, age):\n",
    "        self._name = name\n",
    "        self._age = age\n",
    "\n",
    "    # Getter method for name\n",
    "    @property\n",
    "    def name(self):\n",
    "        return self._name\n",
    "\n",
    "    # Setter method for name\n",
    "    @name.setter\n",
    "    def name(self, value):\n",
    "        if isinstance(value, str):\n",
    "            self._name = value\n",
    "        else:\n",
    "            raise ValueError(\"Name must be a string\")\n",
    "\n",
    "    # Getter method for age\n",
    "    @property\n",
    "    def age(self):\n",
    "        return self._age\n",
    "\n",
    "    # Setter method for age\n",
    "    @age.setter\n",
    "    def age(self, value):\n",
    "        if isinstance(value, int) and value > 0:\n",
    "            self._age = value\n",
    "        else:\n",
    "            raise ValueError(\"Age must be a positive integer\")\n",
    "\n",
    "# Example usage:\n",
    "student = Student(\"John Doe\", 20)\n",
    "print(student.name)  # Output: John Doe\n",
    "print(student.age)   # Output: 20\n",
    "\n",
    "student.name = \"Jane Doe\"\n",
    "student.age = 21\n",
    "print(student.name)  # Output: Jane Doe\n",
    "print(student.age)   # Output: 21\n",
    "\n",
    "# student.age = -1  # Raises ValueError: Age must be a positive integer\n"
   ]
  },
  {
   "cell_type": "markdown",
   "id": "825305cd-7768-4ae2-8aba-99aa56be5e03",
   "metadata": {},
   "source": [
    "Method overriding is a feature in object-oriented programming where a child class provides a specific implementation of a method that is already defined in its parent class."
   ]
  },
  {
   "cell_type": "code",
   "execution_count": null,
   "id": "c9a4fee6-afd2-41bc-953e-0c0371dbd410",
   "metadata": {},
   "outputs": [],
   "source": [
    "class Animal:\n",
    "    def sound(self):\n",
    "        return \"Some generic animal sound\"\n",
    "\n",
    "class Dog(Animal):\n",
    "    def sound(self):\n",
    "        return \"Bark\"\n",
    "\n",
    "class Cat(Animal):\n",
    "    def sound(self):\n",
    "        return \"Meow\"\n",
    "\n",
    "# Example usage:\n",
    "animal = Animal()\n",
    "dog = Dog()\n",
    "cat = Cat()\n",
    "\n",
    "print(animal.sound())  # Output: Some generic animal sound\n",
    "print(dog.sound())     # Output: Bark\n",
    "print(cat.sound())     # Output: Meow\n"
   ]
  }
 ],
 "metadata": {
  "kernelspec": {
   "display_name": "Python 3 (ipykernel)",
   "language": "python",
   "name": "python3"
  },
  "language_info": {
   "codemirror_mode": {
    "name": "ipython",
    "version": 3
   },
   "file_extension": ".py",
   "mimetype": "text/x-python",
   "name": "python",
   "nbconvert_exporter": "python",
   "pygments_lexer": "ipython3",
   "version": "3.10.8"
  }
 },
 "nbformat": 4,
 "nbformat_minor": 5
}
