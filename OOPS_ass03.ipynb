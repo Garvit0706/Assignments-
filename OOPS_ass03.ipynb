{
 "cells": [
  {
   "cell_type": "markdown",
   "id": "f3c64e94-c718-4345-87fd-bf810bbe996f",
   "metadata": {},
   "source": [
    "Q1. Which function is used to open a file? What are the different modes of opening a file? Explain each mode of file opening\n",
    "The open() function is used to open a file in Python. The different modes of opening a file are:\n",
    "\n",
    "'r': Read (default mode). Opens a file for reading, error if the file does not exist.\n",
    "'w': Write. Opens a file for writing, creates a new file if it does not exist or truncates the file if it exists.\n",
    "'a': Append. Opens a file for appending, creates a new file if it does not exist.\n",
    "'b': Binary mode. Used for binary files (e.g., images). Can be combined with other modes (e.g., 'rb' or 'wb').\n",
    "'t': Text mode (default mode). Can be combined with other modes (e.g., 'rt' or 'wt').\n",
    "'x': Exclusive creation. Creates a new file and opens it for writing, returns an error if the file exists.\n",
    "'+': Update. Opens a file for updating (reading and writing). Can be combined with other modes (e.g., 'r+', 'w+', 'a+')."
   ]
  },
  {
   "cell_type": "markdown",
   "id": "b9c4f93a-3ceb-4961-9d69-855f0205676e",
   "metadata": {},
   "source": [
    "2. Why close() function is used? Why is it important to close a file?\n",
    "The close() function is used to close an open file. It is important to close a file to:\n",
    "\n",
    "Free up system resources: Open files consume system resources, and closing them releases these resources.\n",
    "Ensure data is written: Closing a file ensures that all data is properly written to the file.\n",
    "Prevent data corruption: Leaving files open for extended periods can lead to data corruption or loss."
   ]
  },
  {
   "cell_type": "code",
   "execution_count": null,
   "id": "31715803-9d37-44ee-924f-8b4f2c811386",
   "metadata": {},
   "outputs": [],
   "source": [
    "# Create and write to the file\n",
    "with open(\"data_scientist.txt\", \"w\") as file:\n",
    "    file.write(\"I want to become a Data Scientist\")\n",
    "\n",
    "# Read the content of the file\n",
    "with open(\"data_scientist.txt\", \"r\") as file:\n",
    "    content = file.read()\n",
    "    print(content)\n"
   ]
  },
  {
   "cell_type": "code",
   "execution_count": null,
   "id": "ad1a248f-1140-4b8d-8857-7979418d844b",
   "metadata": {},
   "outputs": [],
   "source": [
    "read(): Reads the entire file or a specified number of characters.\n",
    "with open(\"data_scientist.txt\", \"r\") as file:\n",
    "    content = file.read()\n",
    "    print(content)  # Output: I want to become a Data Scientist\n",
    "\n",
    "    \n",
    "readline(): Reads one line from the file.\n",
    "with open(\"data_scientist.txt\", \"r\") as file:\n",
    "    line = file.readline()\n",
    "    print(line)  # Output: I want to become a Data Scientist\n",
    "\n",
    "\n",
    "readlines(): Reads all lines from the file and returns a list of strings.\n",
    "with open(\"data_scientist.txt\", \"r\") as file:\n",
    "    lines = file.readlines()\n",
    "    print(lines)  # Output: ['I want to become a Data Scientist']\n"
   ]
  },
  {
   "cell_type": "markdown",
   "id": "d201d8b2-6c17-48a8-9af3-bd9a23d6165e",
   "metadata": {},
   "source": [
    "Q5. Explain why with statement is used with open(). What is the advantage of using with statement and open() together?\n",
    "The with statement is used with open() to ensure that the file is properly closed after its suite finishes, even if an exception is raised. This is a cleaner and more efficient way to handle file operations.\n",
    "\n",
    "Advantages:\n",
    "\n",
    "Automatically closes the file: No need to explicitly call close().\n",
    "Handles exceptions: Ensures that the file is closed even if an error occurs during file operations.\n",
    "\n",
    "with open(\"data_scientist.txt\", \"r\") as file:\n",
    "    content = file.read()\n",
    "    print(content)\n"
   ]
  },
  {
   "cell_type": "code",
   "execution_count": null,
   "id": "e747244d-eca1-4875-8874-32979df127d3",
   "metadata": {},
   "outputs": [],
   "source": [
    "# Using write()\n",
    "with open(\"example_write.txt\", \"w\") as file:\n",
    "    file.write(\"This is written using write().\\n\")\n",
    "\n",
    "# Using writelines()\n",
    "lines = [\"This is the first line.\\n\", \"This is the second line.\\n\", \"This is the third line.\"]\n",
    "with open(\"example_writelines.txt\", \"w\") as file:\n",
    "    file.writelines(lines)\n"
   ]
  }
 ],
 "metadata": {
  "kernelspec": {
   "display_name": "Python 3 (ipykernel)",
   "language": "python",
   "name": "python3"
  },
  "language_info": {
   "codemirror_mode": {
    "name": "ipython",
    "version": 3
   },
   "file_extension": ".py",
   "mimetype": "text/x-python",
   "name": "python",
   "nbconvert_exporter": "python",
   "pygments_lexer": "ipython3",
   "version": "3.10.8"
  }
 },
 "nbformat": 4,
 "nbformat_minor": 5
}
