{
 "cells": [
  {
   "cell_type": "markdown",
   "id": "165683b7-94be-45df-bce9-71e9d4e2025c",
   "metadata": {},
   "source": [
    "Q1. Explain Class and Object with respect to Object-Oriented Programming. Give a suitable example.\n",
    "Class:\n",
    "A class in Object-Oriented Programming (OOP) is a blueprint or template for creating objects. It defines the properties (attributes) and behaviors (methods) that the objects created from the class can have. Classes encapsulate data and functions that operate on the data into a single unit.\n",
    "\n",
    "Object:\n",
    "An object is an instance of a class. It is a concrete entity based on the class blueprint, containing real values instead of the placeholders defined in the class. Each object can have different attribute values but will share the structure and behavior defined by its class.\n",
    "\n",
    "class Car:\n",
    "    def __init__(self, make, model, year):\n",
    "        self.make = make\n",
    "        self.model = model\n",
    "        self.year = year\n",
    "    \n",
    "    def display_info(self):\n",
    "        print(f\"Car Info: {self.year} {self.make} {self.model}\")\n",
    "\n",
    "# Creating objects from the Car class\n",
    "car1 = Car(\"Toyota\", \"Corolla\", 2020)\n",
    "car2 = Car(\"Honda\", \"Civic\", 2019)\n",
    "\n",
    "# Accessing attributes and methods\n",
    "car1.display_info()  # Output: Car Info: 2020 Toyota Corolla\n",
    "car2.display_info()  # Output: Car Info: 2019 Honda Civic\n"
   ]
  },
  {
   "cell_type": "markdown",
   "id": "19fec9cf-3872-431c-994c-a9416f0c6464",
   "metadata": {},
   "source": [
    "Q2. Name the four pillars of OOPs.\n",
    "Encapsulation: Bundling of data and methods that operate on the data within one unit (class). It restricts direct access to some of the object's components, which is a means of preventing accidental interference and misuse.\n",
    "\n",
    "Abstraction: Hiding complex implementation details and showing only the necessary features of an object. It helps to reduce programming complexity and effort.\n",
    "\n",
    "Inheritance: Mechanism where a new class inherits the properties and behavior of an existing class. It promotes code reusability.\n",
    "\n",
    "Polymorphism: Ability of different classes to respond to the same function call in different ways. It allows methods to do different things based on the object it is acting upon."
   ]
  },
  {
   "cell_type": "markdown",
   "id": "6138e596-a453-41a4-975e-974cd9426052",
   "metadata": {},
   "source": [
    "Q3. Explain why the init() function is used. Give a suitable example.\n",
    "The __init__() function, also known as the constructor, is used in Python classes to initialize newly created objects. It allows the class to initialize the object's attributes with specified values when the object is created.\n",
    "class Person:\n",
    "    def __init__(self, name, age):\n",
    "        self.name = name\n",
    "        self.age = age\n",
    "    \n",
    "    def display_info(self):\n",
    "        print(f\"Name: {self.name}, Age: {self.age}\")\n",
    "\n",
    "# Creating an object of the Person class\n",
    "person1 = Person(\"Alice\", 30)\n",
    "\n",
    "# Accessing attributes and methods\n",
    "person1.display_info()  # Output: Name: Alice, Age: 30\n"
   ]
  },
  {
   "cell_type": "markdown",
   "id": "3a507227-f7e1-4610-bf87-fc69d5976f4b",
   "metadata": {},
   "source": [
    "Q4. Why self is used in OOPs?\n",
    "The self keyword is used in instance methods to refer to the object on which the method is being called. It allows access to the attributes and other methods of the same object. Without self, the method would not know which object's attributes it should operate on."
   ]
  },
  {
   "cell_type": "code",
   "execution_count": null,
   "id": "8ed683ff-fc99-44da-bf0f-bd4416898481",
   "metadata": {},
   "outputs": [],
   "source": [
    "class Dog:\n",
    "    def __init__(self, name):\n",
    "        self.name = name\n",
    "    \n",
    "    def bark(self):\n",
    "        print(f\"{self.name} says Woof!\")\n",
    "\n",
    "# Creating an object of the Dog class\n",
    "dog1 = Dog(\"Buddy\")\n",
    "\n",
    "# Calling the bark method\n",
    "dog1.bark()  # Output: Buddy says Woof!\n"
   ]
  },
  {
   "cell_type": "markdown",
   "id": "10cee319-c685-43ec-8add-132de2b239d1",
   "metadata": {},
   "source": [
    "Q5. What is inheritance? Give an example for each type of inheritance.\n",
    "Inheritance is a mechanism in OOP that allows a class (child class) to inherit attributes and methods from another class (parent class). This promotes code reusability and establishes a natural hierarchy between classes.\n",
    "\n",
    "Types of Inheritance:"
   ]
  },
  {
   "cell_type": "code",
   "execution_count": null,
   "id": "be530679-2c23-4ba3-8999-3ea53b777976",
   "metadata": {},
   "outputs": [],
   "source": [
    "class Animal:\n",
    "    def eat(self):\n",
    "        print(\"Eating\")\n",
    "\n",
    "class Dog(Animal):\n",
    "    def bark(self):\n",
    "        print(\"Barking\")\n",
    "\n",
    "dog = Dog()\n",
    "dog.eat()   # Output: Eating\n",
    "dog.bark()  # Output: Barking\n"
   ]
  },
  {
   "cell_type": "code",
   "execution_count": null,
   "id": "9fb95c11-828f-47fc-bfc6-868596a4444f",
   "metadata": {},
   "outputs": [],
   "source": [
    "class Flyable:\n",
    "    def fly(self):\n",
    "        print(\"Flying\")\n",
    "\n",
    "class Swimmable:\n",
    "    def swim(self):\n",
    "        print(\"Swimming\")\n",
    "\n",
    "class Duck(Flyable, Swimmable):\n",
    "    pass\n",
    "\n",
    "duck = Duck()\n",
    "duck.fly()   # Output: Flying\n",
    "duck.swim()  # Output: Swimming\n"
   ]
  },
  {
   "cell_type": "code",
   "execution_count": null,
   "id": "aa983b5a-4536-489e-b809-5102ee876650",
   "metadata": {},
   "outputs": [],
   "source": [
    "class Animal:\n",
    "    def eat(self):\n",
    "        print(\"Eating\")\n",
    "\n",
    "class Dog(Animal):\n",
    "    def bark(self):\n",
    "        print(\"Barking\")\n",
    "\n",
    "class Puppy(Dog):\n",
    "    def play(self):\n",
    "        print(\"Playing\")\n",
    "\n",
    "puppy = Puppy()\n",
    "puppy.eat()   # Output: Eating\n",
    "puppy.bark()  # Output: Barking\n",
    "puppy.play()  # Output: Playing\n"
   ]
  },
  {
   "cell_type": "code",
   "execution_count": null,
   "id": "976ca3e5-ca53-4c87-935c-e545f68dc3f2",
   "metadata": {},
   "outputs": [],
   "source": []
  }
 ],
 "metadata": {
  "kernelspec": {
   "display_name": "Python 3 (ipykernel)",
   "language": "python",
   "name": "python3"
  },
  "language_info": {
   "codemirror_mode": {
    "name": "ipython",
    "version": 3
   },
   "file_extension": ".py",
   "mimetype": "text/x-python",
   "name": "python",
   "nbconvert_exporter": "python",
   "pygments_lexer": "ipython3",
   "version": "3.10.8"
  }
 },
 "nbformat": 4,
 "nbformat_minor": 5
}
