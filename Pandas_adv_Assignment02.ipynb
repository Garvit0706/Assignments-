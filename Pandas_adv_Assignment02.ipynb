{
 "cells": [
  {
   "cell_type": "code",
   "execution_count": null,
   "id": "562f8f69-298b-4f1c-9b1f-9eda1e264af5",
   "metadata": {},
   "outputs": [],
   "source": [
    "1.\n",
    "import pandas as pd\n",
    "\n",
    "course_name = ['Data Science', 'Machine Learning', 'Big Data', 'Data Engineer']\n",
    "duration = [2, 3, 6, 4]\n",
    "df = pd.DataFrame(data = {'course_name': course_name, 'duration': duration})\n",
    "\n",
    "# Printing the data present in the second row\n",
    "second_row = df.iloc[1]\n",
    "print(second_row)\n"
   ]
  },
  {
   "cell_type": "code",
   "execution_count": null,
   "id": "7f1f87ca-4126-4fe1-a297-558bf27a61ed",
   "metadata": {},
   "outputs": [],
   "source": [
    "Q2. What is the difference between the functions loc and iloc in pandas.DataFrame?\n",
    "loc: This is label-based indexing, meaning that you have to specify the name of the rows and columns that you need to filter out.\n",
    "iloc: This is integer-location based indexing, so you have to specify rows and columns by their integer index."
   ]
  },
  {
   "cell_type": "code",
   "execution_count": null,
   "id": "82a80423-342d-4d1b-8cc0-acc40c9a536e",
   "metadata": {},
   "outputs": [],
   "source": [
    "3.\n",
    "reindex = [3, 0, 1, 2]\n",
    "new_df = df.reindex(reindex)\n",
    "\n",
    "# Output for new_df.loc[2]\n",
    "print(new_df.loc[2])\n",
    "\n",
    "# Output for new_df.iloc[2]\n",
    "print(new_df.iloc[2])\n"
   ]
  },
  {
   "cell_type": "code",
   "execution_count": null,
   "id": "92842071-524e-4ffc-8205-1427ac30d276",
   "metadata": {},
   "outputs": [],
   "source": [
    "4.\n",
    "import numpy as np\n",
    "\n",
    "columns = ['column_1', 'column_2', 'column_3', 'column_4', 'column_5', 'column_6']\n",
    "indices = [1, 2, 3, 4, 5, 6]\n",
    "df1 = pd.DataFrame(np.random.rand(6, 6), columns = columns, index = indices)\n",
    "\n",
    "# Mean of each column\n",
    "mean_values = df1.mean()\n",
    "print(\"Mean of each column:\\n\", mean_values)\n",
    "\n",
    "# Standard deviation of column_2\n",
    "std_dev_column_2 = df1['column_2'].std()\n",
    "print(\"Standard Deviation of column_2:\\n\", std_dev_column_2)\n"
   ]
  },
  {
   "cell_type": "code",
   "execution_count": null,
   "id": "f0d737da-1a29-4498-a76b-63967971c831",
   "metadata": {},
   "outputs": [],
   "source": [
    "5.\n",
    "# Replace data in the second row of column_2 with a string\n",
    "df1.loc[2, 'column_2'] = 'string_data'\n",
    "\n",
    "# Attempt to find the mean of column_2\n",
    "try:\n",
    "    mean_column_2 = df1['column_2'].mean()\n",
    "    print(\"Mean of column_2:\\n\", mean_column_2)\n",
    "except TypeError as e:\n",
    "    print(\"Error:\", e)\n"
   ]
  },
  {
   "cell_type": "markdown",
   "id": "4c197fe4-e43f-4d1d-ab0c-9ad199c730ca",
   "metadata": {},
   "source": [
    "Q6. What do you understand about the windows function in pandas and list the types of windows functions?\n",
    "Window functions in pandas are used to perform calculations across a sliding window of values. They allow you to apply functions like mean(), sum(), count(), etc., over a specified window of rows.\n",
    "\n",
    "Types of window functions:\n",
    "\n",
    "Rolling window: rolling()\n",
    "Expanding window: expanding()\n",
    "Exponentially weighted window: ewm()"
   ]
  },
  {
   "cell_type": "code",
   "execution_count": null,
   "id": "55615131-fc51-4648-a80c-87f694c2d5a6",
   "metadata": {},
   "outputs": [],
   "source": [
    "7.\n",
    "import pandas as pd\n",
    "\n",
    "current_date = pd.Timestamp.now()\n",
    "print(f\"Current Month and Year: {current_date.month}-{current_date.year}\")\n"
   ]
  },
  {
   "cell_type": "code",
   "execution_count": null,
   "id": "d6f95eb1-0a75-434e-ae1c-7c96ea1df055",
   "metadata": {},
   "outputs": [],
   "source": [
    "8.\n",
    "import pandas as pd\n",
    "\n",
    "def calculate_date_difference(date1, date2):\n",
    "    date1 = pd.to_datetime(date1)\n",
    "    date2 = pd.to_datetime(date2)\n",
    "    difference = date2 - date1\n",
    "    days = difference.days\n",
    "    seconds = difference.seconds\n",
    "    hours = seconds // 3600\n",
    "    minutes = (seconds % 3600) // 60\n",
    "    return days, hours, minutes\n",
    "\n",
    "# Example usage\n",
    "date1 = input(\"Enter the first date (YYYY-MM-DD): \")\n",
    "date2 = input(\"Enter the second date (YYYY-MM-DD): \")\n",
    "days, hours, minutes = calculate_date_difference(date1, date2)\n",
    "print(f\"Difference: {days} days, {hours} hours, and {minutes} minutes\")\n"
   ]
  },
  {
   "cell_type": "code",
   "execution_count": null,
   "id": "547a07f5-e4da-43de-848c-ec86edee1bae",
   "metadata": {},
   "outputs": [],
   "source": [
    "9.\n",
    "import pandas as pd\n",
    "\n",
    "def convert_to_categorical():\n",
    "    file_path = input(\"Enter the file path of the CSV file: \")\n",
    "    column_name = input(\"Enter the column name to convert to categorical: \")\n",
    "    category_order = input(\"Enter the category order (comma-separated): \").split(',')\n",
    "\n",
    "    # Read CSV file\n",
    "    df = pd.read_csv(file_path)\n",
    "\n",
    "    # Convert specified column to categorical type\n",
    "    df[column_name] = pd.Categorical(df[column_name], categories=category_order, ordered=True)\n",
    "\n",
    "    # Sort data by the categorical column\n",
    "    df_sorted = df.sort_values(by=column_name)\n",
    "\n",
    "    print(df_sorted)\n",
    "\n",
    "convert_to_categorical()\n"
   ]
  },
  {
   "cell_type": "code",
   "execution_count": null,
   "id": "3a4e948d-6455-4f8c-bca8-538d1a5f5fbf",
   "metadata": {},
   "outputs": [],
   "source": [
    "10.\n",
    "import pandas as pd\n",
    "import matplotlib.pyplot as plt\n",
    "\n",
    "def visualize_sales_data():\n",
    "    file_path = input(\"Enter the file path of the CSV file: \")\n",
    "\n",
    "    # Read CSV file\n",
    "    df = pd.read_csv(file_path)\n",
    "\n",
    "    # Assuming the CSV has columns 'Date', 'Product', 'Sales'\n",
    "    df['Date'] = pd.to_datetime(df['Date'])\n",
    "\n",
    "    # Pivot the dataframe\n",
    "    df_pivot = df.pivot_table(index='Date', columns='Product', values='Sales', aggfunc='sum', fill_value=0)\n",
    "\n",
    "    # Plot stacked bar chart\n",
    "    df_pivot.plot(kind='bar', stacked=True, figsize=(10, 7))\n",
    "    plt.title('Sales of Each Product Category Over Time')\n",
    "    plt.xlabel('Date')\n",
    "    plt.ylabel('Sales')\n",
    "    plt.legend(title='Product')\n",
    "    plt.show()\n",
    "\n",
    "visualize_sales_data()\n"
   ]
  },
  {
   "cell_type": "code",
   "execution_count": null,
   "id": "ee022d80-00da-4e6d-92de-a48bf038e25e",
   "metadata": {},
   "outputs": [],
   "source": [
    "11.\n",
    "import pandas as pd\n",
    "from scipy import stats\n",
    "\n",
    "def student_data_statistics():\n",
    "    file_path = input(\"Enter the file path of the CSV file containing the student data: \")\n",
    "\n",
    "    # Read CSV file\n",
    "    df = pd.read_csv(file_path)\n",
    "\n",
    "    # Calculate statistics\n",
    "    mean_score = df['Test Score'].mean()\n",
    "    median_score = df['Test Score'].median()\n",
    "    mode_score = df['Test Score'].mode().tolist()\n",
    "\n",
    "    # Display results in a table\n",
    "    print(\"+-----------+---------+\")\n",
    "    print(\"| Statistic |  Value  |\")\n",
    "    print(\"+-----------+---------+\")\n",
    "    print(f\"|   Mean    |  {mean_score:.1f}   |\")\n",
    "    print(f\"|  Median   |  {median_score}   |\")\n",
    "    print(f\"|   Mode    |  {', '.join(map(str, mode_score))}  |\")\n",
    "    print(\"+-----------+---------+\")\n",
    "\n",
    "student_data_statistics()\n"
   ]
  }
 ],
 "metadata": {
  "kernelspec": {
   "display_name": "Python 3 (ipykernel)",
   "language": "python",
   "name": "python3"
  },
  "language_info": {
   "codemirror_mode": {
    "name": "ipython",
    "version": 3
   },
   "file_extension": ".py",
   "mimetype": "text/x-python",
   "name": "python",
   "nbconvert_exporter": "python",
   "pygments_lexer": "ipython3",
   "version": "3.10.8"
  }
 },
 "nbformat": 4,
 "nbformat_minor": 5
}
