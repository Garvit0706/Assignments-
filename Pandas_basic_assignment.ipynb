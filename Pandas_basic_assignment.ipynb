{
 "cells": [
  {
   "cell_type": "code",
   "execution_count": null,
   "id": "d733d87f-0da5-4e57-af0a-f4bf3165bba7",
   "metadata": {},
   "outputs": [],
   "source": [
    "1.\n",
    "import pandas as pd\n",
    "\n",
    "# Create a Pandas Series\n",
    "data = [4, 8, 15, 16, 23, 42]\n",
    "series = pd.Series(data)\n",
    "\n",
    "# Print the series\n",
    "print(series)\n"
   ]
  },
  {
   "cell_type": "code",
   "execution_count": null,
   "id": "10fa91eb-40e2-4397-a5ca-1444a0a05c5f",
   "metadata": {},
   "outputs": [],
   "source": [
    "2.\n",
    "# Create a list with 10 elements\n",
    "my_list = [1, 2, 3, 4, 5, 6, 7, 8, 9, 10]\n",
    "\n",
    "# Convert the list to a Pandas Series\n",
    "series = pd.Series(my_list)\n",
    "\n",
    "# Print the series\n",
    "print(series)\n"
   ]
  },
  {
   "cell_type": "code",
   "execution_count": null,
   "id": "61aa66a3-5e2a-45c1-89c2-a9f754381dbb",
   "metadata": {},
   "outputs": [],
   "source": [
    "3.\n",
    "# Create a dictionary with the data\n",
    "data = {\n",
    "    'Name': ['Alice', 'Bob', 'Claire'],\n",
    "    'Age': [25, 30, 27],\n",
    "    'Gender': ['Female', 'Male', 'Female']\n",
    "}\n",
    "\n",
    "# Create a DataFrame from the dictionary\n",
    "df = pd.DataFrame(data)\n",
    "\n",
    "# Print the DataFrame\n",
    "print(df)\n",
    "\n",
    "| Name   | Age | Gender |\n",
    "|--------|-----|--------|\n",
    "| Alice  | 25  | Female |\n",
    "| Bob    | 30  | Male   |\n",
    "| Claire | 27  | Female |\n"
   ]
  },
  {
   "cell_type": "markdown",
   "id": "83ca31bb-6e99-432f-8c14-60036f8ac792",
   "metadata": {},
   "source": [
    "4.\n",
    "A DataFrame in pandas is a 2-dimensional labeled data structure with columns that can be of different types. It is similar to a spreadsheet or a SQL table, and is the most commonly used pandas object. On the other hand, a Series is a 1-dimensional labeled array capable of holding any data type.\n",
    "# Series example\n",
    "series = pd.Series([1, 2, 3, 4, 5])\n",
    "print(\"Series:\")\n",
    "print(series)\n",
    "\n",
    "# DataFrame example\n",
    "data = {\n",
    "    'A': [1, 2, 3, 4, 5],\n",
    "    'B': [10, 20, 30, 40, 50]\n",
    "}\n",
    "df = pd.DataFrame(data)\n",
    "print(\"\\nDataFrame:\")\n",
    "print(df)\n"
   ]
  },
  {
   "cell_type": "code",
   "execution_count": null,
   "id": "054d7a92-e9c9-45d2-b947-22538b6dbc62",
   "metadata": {},
   "outputs": [],
   "source": [
    "Q5. What are some common functions you can use to manipulate data in a Pandas DataFrame? Can you give an example of when you might use one of these functions?\n",
    "Some common functions to manipulate data in a Pandas DataFrame include:\n",
    "\n",
    "df.head(): to view the first few rows of the DataFrame.\n",
    "df.tail(): to view the last few rows of the DataFrame.\n",
    "df.describe(): to get a summary of statistics for numerical columns.\n",
    "df.info(): to get a concise summary of the DataFrame.\n",
    "df.drop(): to remove rows or columns.\n",
    "df.fillna(): to fill missing values.\n",
    "df.groupby(): to group data and perform aggregate operations.\n",
    "\n",
    "# Create a DataFrame\n",
    "data = {\n",
    "    'Name': ['Alice', 'Bob', 'Claire', 'Alice', 'Bob'],\n",
    "    'Age': [25, 30, 27, 25, 30],\n",
    "    'Score': [85, 90, 88, 92, 95]\n",
    "}\n",
    "df = pd.DataFrame(data)\n",
    "\n",
    "# Group by 'Name' and calculate the mean score\n",
    "grouped = df.groupby('Name')['Score'].mean()\n",
    "\n",
    "print(grouped)\n"
   ]
  },
  {
   "cell_type": "code",
   "execution_count": null,
   "id": "7305fd6f-fa64-4405-9bc3-77cd49516569",
   "metadata": {},
   "outputs": [],
   "source": [
    "Q6. Which of the following is mutable in nature: Series, DataFrame, Panel?\n",
    "Both Series and DataFrame are mutable in nature. The Panel has been deprecated and is no longer recommended for use."
   ]
  },
  {
   "cell_type": "code",
   "execution_count": null,
   "id": "33569797-1362-4406-90d0-bd7ddbbfe48d",
   "metadata": {},
   "outputs": [],
   "source": [
    "7.\n",
    "# Create individual Series\n",
    "names = pd.Series(['Alice', 'Bob', 'Claire'])\n",
    "ages = pd.Series([25, 30, 27])\n",
    "genders = pd.Series(['Female', 'Male', 'Female'])\n",
    "\n",
    "# Create a DataFrame from the Series\n",
    "df = pd.DataFrame({\n",
    "    'Name': names,\n",
    "    'Age': ages,\n",
    "    'Gender': genders\n",
    "})\n",
    "\n",
    "print(df)\n"
   ]
  }
 ],
 "metadata": {
  "kernelspec": {
   "display_name": "Python 3 (ipykernel)",
   "language": "python",
   "name": "python3"
  },
  "language_info": {
   "codemirror_mode": {
    "name": "ipython",
    "version": 3
   },
   "file_extension": ".py",
   "mimetype": "text/x-python",
   "name": "python",
   "nbconvert_exporter": "python",
   "pygments_lexer": "ipython3",
   "version": "3.10.8"
  }
 },
 "nbformat": 4,
 "nbformat_minor": 5
}
