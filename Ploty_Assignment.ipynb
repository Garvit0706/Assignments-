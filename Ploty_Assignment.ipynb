{
 "cells": [
  {
   "cell_type": "code",
   "execution_count": null,
   "id": "a24a6a0e-9eb4-47f4-8f07-4c0ef12c9dd0",
   "metadata": {},
   "outputs": [],
   "source": [
    "1.\n",
    "import seaborn as sns\n",
    "import plotly.express as px\n",
    "\n",
    "# Load the dataset\n",
    "titanic = sns.load_dataset(\"titanic\")\n",
    "\n",
    "# Plot the scatter plot\n",
    "fig = px.scatter(titanic, x='age', y='fare', title='Scatter Plot of Age vs Fare')\n",
    "fig.show()\n"
   ]
  },
  {
   "cell_type": "code",
   "execution_count": null,
   "id": "719d8489-bb00-4988-a484-62e3d70a056a",
   "metadata": {},
   "outputs": [],
   "source": [
    "2.\n",
    "import plotly.express as px\n",
    "\n",
    "# Load the dataset\n",
    "tips = px.data.tips()\n",
    "\n",
    "# Plot the box plot\n",
    "fig = px.box(tips, x='day', y='total_bill', title='Box Plot of Total Bill by Day')\n",
    "fig.show()\n"
   ]
  },
  {
   "cell_type": "code",
   "execution_count": null,
   "id": "fa9531b9-33c6-4ea2-88b3-30ebb0853f3f",
   "metadata": {},
   "outputs": [],
   "source": [
    "3.\n",
    "import plotly.express as px\n",
    "\n",
    "# Load the dataset\n",
    "tips = px.data.tips()\n",
    "\n",
    "# Plot the histogram\n",
    "fig = px.histogram(tips, x=\"sex\", y=\"total_bill\", color=\"day\", pattern_shape=\"smoker\",\n",
    "                   title='Histogram of Total Bill by Sex, Day, and Smoker Status')\n",
    "fig.show()\n"
   ]
  },
  {
   "cell_type": "code",
   "execution_count": null,
   "id": "baa08d64-9ba2-400e-8a86-c33d98b222e5",
   "metadata": {},
   "outputs": [],
   "source": [
    "4.\n",
    "import plotly.express as px\n",
    "\n",
    "# Load the dataset\n",
    "iris = px.data.iris()\n",
    "\n",
    "# Plot the scatter matrix plot\n",
    "fig = px.scatter_matrix(iris, dimensions=[\"sepal_length\", \"sepal_width\", \"petal_length\", \"petal_width\"], \n",
    "                        color=\"species\", title='Scatter Matrix of Iris Dataset')\n",
    "fig.show()\n"
   ]
  },
  {
   "cell_type": "code",
   "execution_count": null,
   "id": "a3d2ab3e-d885-455e-a4d4-3203df2dd762",
   "metadata": {},
   "outputs": [],
   "source": [
    "5.\n",
    "import plotly.express as px\n",
    "\n",
    "# Load the dataset\n",
    "iris = px.data.iris()\n",
    "\n",
    "# Plot the distribution plot\n",
    "fig = px.histogram(iris, x=\"sepal_width\", marginal=\"rug\", histnorm='density', title='Distribution Plot of Sepal Width')\n",
    "fig.show()\n"
   ]
  }
 ],
 "metadata": {
  "kernelspec": {
   "display_name": "Python 3 (ipykernel)",
   "language": "python",
   "name": "python3"
  },
  "language_info": {
   "codemirror_mode": {
    "name": "ipython",
    "version": 3
   },
   "file_extension": ".py",
   "mimetype": "text/x-python",
   "name": "python",
   "nbconvert_exporter": "python",
   "pygments_lexer": "ipython3",
   "version": "3.10.8"
  }
 },
 "nbformat": 4,
 "nbformat_minor": 5
}
