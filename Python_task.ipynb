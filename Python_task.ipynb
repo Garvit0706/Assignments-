{
 "cells": [
  {
   "cell_type": "code",
   "execution_count": null,
   "id": "045dbde0-4367-4943-846f-1af880d5dd8f",
   "metadata": {},
   "outputs": [],
   "source": [
    "from collections.abc import Iterable\n",
    "from functools import reduce\n",
    "import operator\n",
    "\n",
    "def flatten_and_multiply(lst):\n",
    "    def flatten(items):\n",
    "        for item in items:\n",
    "            if isinstance(item, Iterable) and not isinstance(item, (str, bytes)):\n",
    "                yield from flatten(item)\n",
    "            else:\n",
    "                yield item\n",
    "    \n",
    "    flat_list = list(flatten(lst))\n",
    "    numbers = [x for x in flat_list if isinstance(x, (int, float))]\n",
    "    \n",
    "    if not numbers:\n",
    "        return None  # Return None if no numbers found\n",
    "    \n",
    "    product = reduce(operator.mul, numbers, 1)\n",
    "    return product\n",
    "\n",
    "# Test the function with list1 provided\n",
    "list1 = [1, 2, 3, 4, [44, 55, 66, True], False, (34, 56, 78, 89, 34), {1, 2, 3, 3, 2, 1}, {1:34, \"key2\": [55, 67, 78, 89], 4: (45, 22, 61, 34)}, [56, 'data science'], 'Machine Learning']\n",
    "result = flatten_and_multiply(list1)\n",
    "print(\"Product of all numbers:\", result)\n"
   ]
  },
  {
   "cell_type": "code",
   "execution_count": null,
   "id": "3886e4ab-d5e7-40b8-b1fc-247345784140",
   "metadata": {},
   "outputs": [],
   "source": [
    "def encrypt_message(message):\n",
    "    encrypted_chars = []\n",
    "    for char in message:\n",
    "        if char.isalpha():\n",
    "            encrypted_char = chr(219 - ord(char))  # 'a' -> 'z', 'b' -> 'y', ..., 'z' -> 'a'\n",
    "            encrypted_chars.append(encrypted_char)\n",
    "        elif char == ' ':\n",
    "            encrypted_chars.append('$')  # Replace whitespace with $\n",
    "        else:\n",
    "            encrypted_chars.append(char)  # Keep punctuation marks unchanged\n",
    "    return ''.join(encrypted_chars)\n",
    "\n",
    "# Input sentence to encrypt\n",
    "input_sentence = \"I want to become a Data Scientist.\"\n",
    "lowercase_input = input_sentence.lower()  # Convert to lowercase as per requirement\n",
    "\n",
    "# Encrypt the input sentence\n",
    "encrypted_sentence = encrypt_message(lowercase_input)\n",
    "print(\"Encrypted sentence:\", encrypted_sentence)\n"
   ]
  }
 ],
 "metadata": {
  "kernelspec": {
   "display_name": "Python 3 (ipykernel)",
   "language": "python",
   "name": "python3"
  },
  "language_info": {
   "codemirror_mode": {
    "name": "ipython",
    "version": 3
   },
   "file_extension": ".py",
   "mimetype": "text/x-python",
   "name": "python",
   "nbconvert_exporter": "python",
   "pygments_lexer": "ipython3",
   "version": "3.10.8"
  }
 },
 "nbformat": 4,
 "nbformat_minor": 5
}
