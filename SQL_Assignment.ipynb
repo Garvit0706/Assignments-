{
 "cells": [
  {
   "cell_type": "markdown",
   "id": "bb6224a4-b6af-48ec-9b6e-f585589a95cb",
   "metadata": {},
   "source": [
    "1. A database is a structured collection of data that is organized in a way that allows for efficient storage, retrieval, and manipulation of data. SQL and NoSQL are two main types of databases. SQL databases are relational databases that use SQL (Structured Query Language) for managing data, while NoSQL databases are non-relational databases that use different methods for data management such as key-value stores, document stores, and graph databases."
   ]
  },
  {
   "cell_type": "markdown",
   "id": "9e357cac-ea34-4193-8e21-a4f176825d1d",
   "metadata": {},
   "source": [
    "2. DDL (Data Definition Language) is a set of SQL commands used to create, modify, and delete database objects such as tables, indexes, and views. The following commands are used in DDL:\n",
    "\n",
    "   CREATE: used to create a new database object such as a table or view  \n",
    "   DROP: used to delete an existing database object  \n",
    "   ALTER: used to modify the structure of an existing database object  \n",
    "   TRUNCATE: used to delete all data from an existing table"
   ]
  },
  {
   "cell_type": "markdown",
   "id": "c687ab3d-1a8f-4540-8751-d7b620b57d54",
   "metadata": {},
   "source": [
    "3. DML (Data Manipulation Language) is a set of SQL commands used to insert, update, and delete data in a database. The following commands are used in DML:\n",
    "\n",
    "   INSERT: used to insert new data into a table\n",
    "   Example = INSERT INTO customers (id, name, email) VALUES (1, 'John Doe', 'john@example.com');\n",
    "   \n",
    "   UPDATE: used to modify existing data in a table\n",
    "   Example = UPDATE customers SET email='jdoe@example.com' WHERE id=1;\n",
    "   \n",
    "   DELETE: used to delete existing data from a table\n",
    "   Example = DELETE FROM customers WHERE id=1;"
   ]
  },
  {
   "cell_type": "markdown",
   "id": "8284811a-7818-44f7-b127-cd7cb9cb363f",
   "metadata": {},
   "source": [
    "4. DQL (Data Query Language) is a set of SQL commands used to retrieve data from a database. The following command is used in DQL:\n",
    "\n",
    "   SELECT: used to retrieve data from one or more tables.  \n",
    "   Example: To retrieve all data from the \"customers\" table created in the previous example, we can use the following SQL query:  SELECT * FROM customers;\n"
   ]
  },
  {
   "cell_type": "markdown",
   "id": "c36ebf86-a3fc-434b-ba8f-d4859489f18b",
   "metadata": {},
   "source": [
    "5. Primary Key and Foreign Key are two important concepts in database design. A primary key is a unique identifier for each row in a table, which is used to ensure data integrity and consistency. A foreign key is a column or a set of columns in a table that refers to the primary key of another table, which is used to establish relationships between tables.\n",
    "\n",
    "   For example, if we have two tables named \"orders\" and \"customers\", where \"orders\" has a foreign key column \"customer_id\"  that refers to the primary key column \"id\" in the \"customers\" table, we can establish a relationship between the two tables. This allows us to retrieve data from both tables using a single SQL query."
   ]
  },
  {
   "cell_type": "code",
   "execution_count": null,
   "id": "7d4253eb-73ac-457e-b743-7458e3661467",
   "metadata": {},
   "outputs": [],
   "source": [
    "# 6. Here is an example Python code to connect to a MySQL database and execute a SQL query using the cursor() and execute() methods:\n",
    "\n",
    "import mysql.connector\n",
    "\n",
    "# connect to the MySQL database\n",
    "mydb = mysql.connector.connect(\n",
    "  host=\"localhost\",\n",
    "  user=\"username\",\n",
    "  password=\"password\",\n",
    "  database=\"mydatabase\"\n",
    ")\n",
    "\n"
   ]
  },
  {
   "cell_type": "markdown",
   "id": "a3a974b1-712c-4288-b2e5-2ff8bc9e149a",
   "metadata": {},
   "source": [
    "6. The cursor() and execute() methods are used in Python to interact with databases using the Python Database API (DB-API). Here is a brief explanation of each method:\n",
    "\n",
    "   cursor(): The cursor() method creates a cursor object that is used to execute SQL statements and fetch data from the result set. A cursor is a control structure that enables traversal over the records in a database. Once a cursor is created, you can use it to execute SQL queries and fetch the results.\n",
    "\n",
    "   execute(): The execute() method is used to execute an SQL statement. It takes an SQL query as an argument and returns a result set if the query produces one. The execute() method can also be used to execute stored procedures, and it supports parameter binding to prevent SQL injection attacks. When you execute an SQL statement, the database returns a result set that can be used to fetch data."
   ]
  },
  {
   "cell_type": "code",
   "execution_count": null,
   "id": "1495aff8-d11e-4708-a88e-7b9085149368",
   "metadata": {},
   "outputs": [],
   "source": []
  }
 ],
 "metadata": {
  "kernelspec": {
   "display_name": "Python 3 (ipykernel)",
   "language": "python",
   "name": "python3"
  },
  "language_info": {
   "codemirror_mode": {
    "name": "ipython",
    "version": 3
   },
   "file_extension": ".py",
   "mimetype": "text/x-python",
   "name": "python",
   "nbconvert_exporter": "python",
   "pygments_lexer": "ipython3",
   "version": "3.10.8"
  }
 },
 "nbformat": 4,
 "nbformat_minor": 5
}
