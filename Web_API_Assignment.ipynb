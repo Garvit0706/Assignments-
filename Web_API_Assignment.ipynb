{
 "cells": [
  {
   "cell_type": "markdown",
   "id": "de5cc0ca-ca5a-4dc4-8137-73d476270a2e",
   "metadata": {},
   "source": [
    "Q1. What is an API? Give an example, where an API is used in real life.\n",
    "\n",
    "API stands for Application Programming Interface. It is a set of rules, protocols, and tools used to build software applications. An example of an API in real life is the Google Maps API. This API provides developers with the ability to embed Google Maps into their own websites or applications, allowing users to view maps and get directions without leaving the website or application."
   ]
  },
  {
   "cell_type": "markdown",
   "id": "1a4a3e09-3f98-44fb-a338-3bcbef4dd962",
   "metadata": {},
   "source": [
    "Q2. Give advantages and disadvantages of using API.\n",
    "\n",
    "Advantages of using API include:\n",
    "\n",
    "Increased efficiency: API allows developers to reuse code and functionality, reducing development time and cost.  \n",
    "Improved functionality: API allows developers to integrate third-party services and data into their own applications, providing users with a more complete and useful experience.  \n",
    "Better scalability: API allows applications to scale up or down as needed, without affecting the performance or functionality of other components.  \n",
    "\n",
    "Disadvantages of using API include:\n",
    "\n",
    "Security concerns: API can create security vulnerabilities if not properly secured and authenticated.  \n",
    "Dependency issues: Applications may become dependent on third-party APIs, which can create problems if the API is changed or discontinued.  \n",
    "Performance issues: API calls can add latency and impact performance if not properly optimized."
   ]
  },
  {
   "cell_type": "markdown",
   "id": "b65c58cf-024d-482e-8d21-a09efbe4c82a",
   "metadata": {},
   "source": []
  },
  {
   "cell_type": "code",
   "execution_count": null,
   "id": "b31e1b5d-ecf0-42ac-ba2b-e8677bc750f9",
   "metadata": {},
   "outputs": [],
   "source": []
  },
  {
   "cell_type": "code",
   "execution_count": null,
   "id": "c57c02f0-d16d-4e6f-8408-2bee1171e534",
   "metadata": {},
   "outputs": [],
   "source": []
  }
 ],
 "metadata": {
  "kernelspec": {
   "display_name": "Python 3 (ipykernel)",
   "language": "python",
   "name": "python3"
  },
  "language_info": {
   "codemirror_mode": {
    "name": "ipython",
    "version": 3
   },
   "file_extension": ".py",
   "mimetype": "text/x-python",
   "name": "python",
   "nbconvert_exporter": "python",
   "pygments_lexer": "ipython3",
   "version": "3.10.8"
  }
 },
 "nbformat": 4,
 "nbformat_minor": 5
}
