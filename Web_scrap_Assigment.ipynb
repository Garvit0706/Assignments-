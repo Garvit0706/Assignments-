{
 "cells": [
  {
   "cell_type": "markdown",
   "id": "179e2c24-611c-4afd-b1d8-2dbbb786dcdf",
   "metadata": {},
   "source": [
    "Q1. What is Web Scraping? Why is it Used? Give three areas where Web Scraping is used to get data.\n",
    "\n",
    "Web scraping is the process of automatically extracting data from websites using scripts or programs. It is used to collect large amounts of data from websites quickly and efficiently. Web scraping is used in a variety of fields, including marketing, research, data analysis, and e-commerce. Three areas where web scraping is commonly used include:\n",
    "\n",
    "Price comparison: Web scraping can be used to collect data on product prices from various online retailers, allowing businesses to compare prices and adjust their own pricing accordingly.  \n",
    "Research: Web scraping can be used to collect data on competitors, market trends, and other information relevant to a company's research needs.  \n",
    "Job listings: Web scraping can be used to collect job listings from various websites, allowing job seekers to quickly find and apply for jobs that match their skills and experience."
   ]
  },
  {
   "cell_type": "markdown",
   "id": "59a68222-ed51-456f-813f-9142da1f446e",
   "metadata": {},
   "source": [
    "Q2. What are the different methods used for Web Scraping?\n",
    "\n",
    "There are various methods used for web scraping, including:\n",
    "\n",
    "Writing custom scripts in programming languages such as Python or Ruby  \n",
    "Using browser extensions or add-ons that automate the scraping process  \n",
    "Using pre-built scraping tools or libraries such as Beautiful Soup, Scrapy, or Selenium."
   ]
  },
  {
   "cell_type": "markdown",
   "id": "464812d8-fad1-43b9-9e6d-e3864328105e",
   "metadata": {},
   "source": []
  },
  {
   "cell_type": "markdown",
   "id": "dd086412-b522-47da-9938-75f5762aaa07",
   "metadata": {},
   "source": []
  },
  {
   "cell_type": "markdown",
   "id": "dda64ea5-1223-4c6c-b879-80f35c446cc4",
   "metadata": {},
   "source": []
  }
 ],
 "metadata": {
  "kernelspec": {
   "display_name": "Python 3 (ipykernel)",
   "language": "python",
   "name": "python3"
  },
  "language_info": {
   "codemirror_mode": {
    "name": "ipython",
    "version": 3
   },
   "file_extension": ".py",
   "mimetype": "text/x-python",
   "name": "python",
   "nbconvert_exporter": "python",
   "pygments_lexer": "ipython3",
   "version": "3.10.8"
  }
 },
 "nbformat": 4,
 "nbformat_minor": 5
}
