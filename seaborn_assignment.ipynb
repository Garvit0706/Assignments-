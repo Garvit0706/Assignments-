{
 "cells": [
  {
   "cell_type": "code",
   "execution_count": null,
   "id": "3a653915-8196-44d8-b00e-0ae39fef2a25",
   "metadata": {},
   "outputs": [],
   "source": [
    "Que 1: Name any five plots that we can plot using the Seaborn library. Also, state the uses of each plot.\n",
    "\n",
    "Line Plot:\n",
    "Use: Visualizes the relationship between two continuous variables over a continuous interval or time period.\n",
    "Example: Plotting time series data to observe trends over time.\n",
    "\n",
    "Box Plot:\n",
    "Use: Displays the distribution of data based on a five-number summary (minimum, first quartile, median, third quartile, and maximum).\n",
    "Example: Comparing the distribution of test scores between different classes.\n",
    "\n",
    "Histogram:\n",
    "Use: Shows the distribution of a single continuous variable by dividing the data into bins.\n",
    "Example: Visualizing the distribution of heights in a population.\n",
    "\n",
    "Pair Plot:\n",
    "Use: Provides a matrix of scatter plots to show pairwise relationships between multiple variables, along with histograms on the diagonal.\n",
    "Example: Examining relationships between different features of the Iris dataset.\n",
    "\n",
    "Heatmap:\n",
    "Use: Displays data in a matrix format where individual values are represented as colors.\n",
    "Example: Visualizing the correlation matrix of a dataset to see how variables are correlated."
   ]
  },
  {
   "cell_type": "code",
   "execution_count": null,
   "id": "bc6a6838-ea16-410e-a172-c4a4dcdda759",
   "metadata": {},
   "outputs": [],
   "source": [
    "2.\n",
    "import seaborn as sns\n",
    "import matplotlib.pyplot as plt\n",
    "\n",
    "# Load the dataset\n",
    "fmri = sns.load_dataset(\"fmri\")\n",
    "\n",
    "# Plot the line plot\n",
    "sns.lineplot(data=fmri, x=\"timepoint\", y=\"signal\", hue=\"event\", style=\"region\")\n",
    "plt.title('FMRI Signal Over Time')\n",
    "plt.show()\n"
   ]
  },
  {
   "cell_type": "code",
   "execution_count": null,
   "id": "6fc57314-e221-442e-8a36-17d578850f03",
   "metadata": {},
   "outputs": [],
   "source": [
    "3.\n",
    "import seaborn as sns\n",
    "import matplotlib.pyplot as plt\n",
    "\n",
    "# Load the dataset\n",
    "titanic = sns.load_dataset(\"titanic\")\n",
    "\n",
    "# Plot the box plots\n",
    "fig, axes = plt.subplots(1, 2, figsize=(12, 6))\n",
    "\n",
    "sns.boxplot(data=titanic, x='pclass', y='age', ax=axes[0])\n",
    "axes[0].set_title('Box Plot of Age by Pclass')\n",
    "\n",
    "sns.boxplot(data=titanic, x='pclass', y='fare', ax=axes[1])\n",
    "axes[1].set_title('Box Plot of Fare by Pclass')\n",
    "\n",
    "plt.tight_layout()\n",
    "plt.show()\n"
   ]
  },
  {
   "cell_type": "code",
   "execution_count": null,
   "id": "9a56d084-59c4-4392-9146-ab16e33568d1",
   "metadata": {},
   "outputs": [],
   "source": [
    "4.\n",
    "import seaborn as sns\n",
    "import matplotlib.pyplot as plt\n",
    "\n",
    "# Load the dataset\n",
    "diamonds = sns.load_dataset(\"diamonds\")\n",
    "\n",
    "# Plot the histogram\n",
    "sns.histplot(data=diamonds, x='price', hue='cut', multiple='stack')\n",
    "plt.title('Histogram of Diamond Prices by Cut')\n",
    "plt.show()\n"
   ]
  },
  {
   "cell_type": "code",
   "execution_count": null,
   "id": "187a7f6b-c316-4963-bf31-6aedc61e56e1",
   "metadata": {},
   "outputs": [],
   "source": [
    "5.\n",
    "import seaborn as sns\n",
    "import matplotlib.pyplot as plt\n",
    "\n",
    "# Load the dataset\n",
    "iris = sns.load_dataset(\"iris\")\n",
    "\n",
    "# Plot the pair plot\n",
    "sns.pairplot(iris, hue='species')\n",
    "plt.suptitle('Pair Plot of Iris Dataset', y=1.02)\n",
    "plt.show()\n"
   ]
  },
  {
   "cell_type": "code",
   "execution_count": null,
   "id": "5a2ee964-8393-4604-97d2-0ef8d6d4b97a",
   "metadata": {},
   "outputs": [],
   "source": [
    "6.\n",
    "import seaborn as sns\n",
    "import matplotlib.pyplot as plt\n",
    "\n",
    "# Load the dataset\n",
    "flights = sns.load_dataset(\"flights\")\n",
    "\n",
    "# Pivot the dataset to get a matrix format\n",
    "flights_pivot = flights.pivot(\"month\", \"year\", \"passengers\")\n",
    "\n",
    "# Plot the heatmap\n",
    "sns.heatmap(flights_pivot, annot=True, fmt=\"d\", cmap=\"YlGnBu\")\n",
    "plt.title('Heatmap of Flight Passengers Over the Years')\n",
    "plt.show()\n"
   ]
  }
 ],
 "metadata": {
  "kernelspec": {
   "display_name": "Python 3 (ipykernel)",
   "language": "python",
   "name": "python3"
  },
  "language_info": {
   "codemirror_mode": {
    "name": "ipython",
    "version": 3
   },
   "file_extension": ".py",
   "mimetype": "text/x-python",
   "name": "python",
   "nbconvert_exporter": "python",
   "pygments_lexer": "ipython3",
   "version": "3.10.8"
  }
 },
 "nbformat": 4,
 "nbformat_minor": 5
}
